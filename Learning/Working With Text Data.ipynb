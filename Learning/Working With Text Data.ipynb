{
 "cells": [
  {
   "cell_type": "code",
   "execution_count": 1,
   "id": "d8cf21a3",
   "metadata": {},
   "outputs": [],
   "source": [
    "import pandas as pd"
   ]
  },
  {
   "cell_type": "code",
   "execution_count": 4,
   "id": "bf038e4c",
   "metadata": {},
   "outputs": [
    {
     "data": {
      "text/html": [
       "<div>\n",
       "<style scoped>\n",
       "    .dataframe tbody tr th:only-of-type {\n",
       "        vertical-align: middle;\n",
       "    }\n",
       "\n",
       "    .dataframe tbody tr th {\n",
       "        vertical-align: top;\n",
       "    }\n",
       "\n",
       "    .dataframe thead th {\n",
       "        text-align: right;\n",
       "    }\n",
       "</style>\n",
       "<table border=\"1\" class=\"dataframe\">\n",
       "  <thead>\n",
       "    <tr style=\"text-align: right;\">\n",
       "      <th></th>\n",
       "      <th>Name</th>\n",
       "      <th>Position Title</th>\n",
       "      <th>Department</th>\n",
       "      <th>Employee Annual Salary</th>\n",
       "    </tr>\n",
       "  </thead>\n",
       "  <tbody>\n",
       "    <tr>\n",
       "      <th>0</th>\n",
       "      <td>AARON,ELVIA</td>\n",
       "      <td>WATER RATE TAKER</td>\n",
       "      <td>WATER MGMNT</td>\n",
       "      <td>1000000.0</td>\n",
       "    </tr>\n",
       "    <tr>\n",
       "      <th>1</th>\n",
       "      <td>AARON,JEFFDRY M</td>\n",
       "      <td>POLICE OFFICER</td>\n",
       "      <td>POLICE</td>\n",
       "      <td>2000000.0</td>\n",
       "    </tr>\n",
       "    <tr>\n",
       "      <th>2</th>\n",
       "      <td>AARON,KIMBELE</td>\n",
       "      <td>POLICE OFFICER</td>\n",
       "      <td>POLICE</td>\n",
       "      <td>NaN</td>\n",
       "    </tr>\n",
       "  </tbody>\n",
       "</table>\n",
       "</div>"
      ],
      "text/plain": [
       "              Name    Position Title   Department  Employee Annual Salary\n",
       "0      AARON,ELVIA  WATER RATE TAKER  WATER MGMNT               1000000.0\n",
       "1  AARON,JEFFDRY M    POLICE OFFICER      POLICE                2000000.0\n",
       "2    AARON,KIMBELE    POLICE OFFICER      POLICE                      NaN"
      ]
     },
     "execution_count": 4,
     "metadata": {},
     "output_type": "execute_result"
    }
   ],
   "source": [
    "con=pd.read_csv(r\"C:\\Users\\ELCOT\\Downloads\\txt_method.csv\")\n",
    "con.head(3)"
   ]
  },
  {
   "cell_type": "code",
   "execution_count": 5,
   "id": "c49ab500",
   "metadata": {},
   "outputs": [
    {
     "name": "stdout",
     "output_type": "stream",
     "text": [
      "<class 'pandas.core.frame.DataFrame'>\n",
      "RangeIndex: 8 entries, 0 to 7\n",
      "Data columns (total 4 columns):\n",
      " #   Column                  Non-Null Count  Dtype  \n",
      "---  ------                  --------------  -----  \n",
      " 0   Name                    8 non-null      object \n",
      " 1   Position Title          8 non-null      object \n",
      " 2   Department              7 non-null      object \n",
      " 3   Employee Annual Salary  6 non-null      float64\n",
      "dtypes: float64(1), object(3)\n",
      "memory usage: 384.0+ bytes\n"
     ]
    }
   ],
   "source": [
    "con.info()"
   ]
  },
  {
   "cell_type": "code",
   "execution_count": 6,
   "id": "81201ef7",
   "metadata": {},
   "outputs": [
    {
     "data": {
      "text/plain": [
       "4"
      ]
     },
     "execution_count": 6,
     "metadata": {},
     "output_type": "execute_result"
    }
   ],
   "source": [
    "con[\"Department\"].nunique()"
   ]
  },
  {
   "cell_type": "code",
   "execution_count": 7,
   "id": "f42751b4",
   "metadata": {},
   "outputs": [
    {
     "data": {
      "text/plain": [
       "Name                      8\n",
       "Position Title            5\n",
       "Department                4\n",
       "Employee Annual Salary    6\n",
       "dtype: int64"
      ]
     },
     "execution_count": 7,
     "metadata": {},
     "output_type": "execute_result"
    }
   ],
   "source": [
    "con.nunique()"
   ]
  },
  {
   "cell_type": "code",
   "execution_count": 9,
   "id": "b98766ac",
   "metadata": {},
   "outputs": [],
   "source": [
    "con[\"Department\"]=con[\"Department\"].astype(\"category\")"
   ]
  },
  {
   "cell_type": "code",
   "execution_count": 10,
   "id": "8bb4689b",
   "metadata": {},
   "outputs": [
    {
     "data": {
      "text/html": [
       "<div>\n",
       "<style scoped>\n",
       "    .dataframe tbody tr th:only-of-type {\n",
       "        vertical-align: middle;\n",
       "    }\n",
       "\n",
       "    .dataframe tbody tr th {\n",
       "        vertical-align: top;\n",
       "    }\n",
       "\n",
       "    .dataframe thead th {\n",
       "        text-align: right;\n",
       "    }\n",
       "</style>\n",
       "<table border=\"1\" class=\"dataframe\">\n",
       "  <thead>\n",
       "    <tr style=\"text-align: right;\">\n",
       "      <th></th>\n",
       "      <th>Name</th>\n",
       "      <th>Position Title</th>\n",
       "      <th>Department</th>\n",
       "      <th>Employee Annual Salary</th>\n",
       "    </tr>\n",
       "  </thead>\n",
       "  <tbody>\n",
       "    <tr>\n",
       "      <th>0</th>\n",
       "      <td>AARON,ELVIA</td>\n",
       "      <td>WATER RATE TAKER</td>\n",
       "      <td>WATER MGMNT</td>\n",
       "      <td>1000000.0</td>\n",
       "    </tr>\n",
       "    <tr>\n",
       "      <th>1</th>\n",
       "      <td>AARON,JEFFDRY M</td>\n",
       "      <td>POLICE OFFICER</td>\n",
       "      <td>POLICE</td>\n",
       "      <td>2000000.0</td>\n",
       "    </tr>\n",
       "    <tr>\n",
       "      <th>2</th>\n",
       "      <td>AARON,KIMBELE</td>\n",
       "      <td>POLICE OFFICER</td>\n",
       "      <td>POLICE</td>\n",
       "      <td>NaN</td>\n",
       "    </tr>\n",
       "  </tbody>\n",
       "</table>\n",
       "</div>"
      ],
      "text/plain": [
       "              Name    Position Title   Department  Employee Annual Salary\n",
       "0      AARON,ELVIA  WATER RATE TAKER  WATER MGMNT               1000000.0\n",
       "1  AARON,JEFFDRY M    POLICE OFFICER      POLICE                2000000.0\n",
       "2    AARON,KIMBELE    POLICE OFFICER      POLICE                      NaN"
      ]
     },
     "execution_count": 10,
     "metadata": {},
     "output_type": "execute_result"
    }
   ],
   "source": [
    "con.head(3)"
   ]
  },
  {
   "cell_type": "code",
   "execution_count": 11,
   "id": "35a88952",
   "metadata": {},
   "outputs": [
    {
     "name": "stdout",
     "output_type": "stream",
     "text": [
      "<class 'pandas.core.frame.DataFrame'>\n",
      "RangeIndex: 8 entries, 0 to 7\n",
      "Data columns (total 4 columns):\n",
      " #   Column                  Non-Null Count  Dtype   \n",
      "---  ------                  --------------  -----   \n",
      " 0   Name                    8 non-null      object  \n",
      " 1   Position Title          8 non-null      object  \n",
      " 2   Department              7 non-null      category\n",
      " 3   Employee Annual Salary  6 non-null      float64 \n",
      "dtypes: category(1), float64(1), object(2)\n",
      "memory usage: 532.0+ bytes\n"
     ]
    }
   ],
   "source": [
    "con.info()"
   ]
  },
  {
   "cell_type": "markdown",
   "id": "47293434",
   "metadata": {},
   "source": [
    "# Commn String Methods-lower(),.upper(),.tittle() and .len()"
   ]
  },
  {
   "cell_type": "code",
   "execution_count": 12,
   "id": "85d0cd8d",
   "metadata": {},
   "outputs": [
    {
     "data": {
      "text/html": [
       "<div>\n",
       "<style scoped>\n",
       "    .dataframe tbody tr th:only-of-type {\n",
       "        vertical-align: middle;\n",
       "    }\n",
       "\n",
       "    .dataframe tbody tr th {\n",
       "        vertical-align: top;\n",
       "    }\n",
       "\n",
       "    .dataframe thead th {\n",
       "        text-align: right;\n",
       "    }\n",
       "</style>\n",
       "<table border=\"1\" class=\"dataframe\">\n",
       "  <thead>\n",
       "    <tr style=\"text-align: right;\">\n",
       "      <th></th>\n",
       "      <th>Name</th>\n",
       "      <th>Position Title</th>\n",
       "      <th>Department</th>\n",
       "      <th>Employee Annual Salary</th>\n",
       "    </tr>\n",
       "  </thead>\n",
       "  <tbody>\n",
       "    <tr>\n",
       "      <th>0</th>\n",
       "      <td>AARON,ELVIA</td>\n",
       "      <td>WATER RATE TAKER</td>\n",
       "      <td>WATER MGMNT</td>\n",
       "      <td>1000000.0</td>\n",
       "    </tr>\n",
       "    <tr>\n",
       "      <th>1</th>\n",
       "      <td>AARON,JEFFDRY M</td>\n",
       "      <td>POLICE OFFICER</td>\n",
       "      <td>POLICE</td>\n",
       "      <td>2000000.0</td>\n",
       "    </tr>\n",
       "    <tr>\n",
       "      <th>2</th>\n",
       "      <td>AARON,KIMBELE</td>\n",
       "      <td>POLICE OFFICER</td>\n",
       "      <td>POLICE</td>\n",
       "      <td>NaN</td>\n",
       "    </tr>\n",
       "  </tbody>\n",
       "</table>\n",
       "</div>"
      ],
      "text/plain": [
       "              Name    Position Title   Department  Employee Annual Salary\n",
       "0      AARON,ELVIA  WATER RATE TAKER  WATER MGMNT               1000000.0\n",
       "1  AARON,JEFFDRY M    POLICE OFFICER      POLICE                2000000.0\n",
       "2    AARON,KIMBELE    POLICE OFFICER      POLICE                      NaN"
      ]
     },
     "execution_count": 12,
     "metadata": {},
     "output_type": "execute_result"
    }
   ],
   "source": [
    "con=pd.read_csv(r\"C:\\Users\\ELCOT\\Downloads\\txt_method.csv\")\n",
    "con[\"Department\"]=con[\"Department\"].astype(\"category\")\n",
    "con.head(3)"
   ]
  },
  {
   "cell_type": "code",
   "execution_count": 14,
   "id": "76ffa6d6",
   "metadata": {},
   "outputs": [
    {
     "data": {
      "text/plain": [
       "'HELLO WORLD'"
      ]
     },
     "execution_count": 14,
     "metadata": {},
     "output_type": "execute_result"
    }
   ],
   "source": [
    "\"Hello World\".lower()\n",
    "\"hello world\".upper()"
   ]
  },
  {
   "cell_type": "code",
   "execution_count": 15,
   "id": "f1c100a3",
   "metadata": {},
   "outputs": [
    {
     "data": {
      "text/plain": [
       "'Hello world'"
      ]
     },
     "execution_count": 15,
     "metadata": {},
     "output_type": "execute_result"
    }
   ],
   "source": [
    "\"hello world\".capitalize()"
   ]
  },
  {
   "cell_type": "code",
   "execution_count": 17,
   "id": "8010db58",
   "metadata": {},
   "outputs": [
    {
     "data": {
      "text/plain": [
       "'Hello World'"
      ]
     },
     "execution_count": 17,
     "metadata": {},
     "output_type": "execute_result"
    }
   ],
   "source": [
    "\"hello world\".title()"
   ]
  },
  {
   "cell_type": "code",
   "execution_count": 18,
   "id": "c817f6b9",
   "metadata": {},
   "outputs": [
    {
     "data": {
      "text/plain": [
       "11"
      ]
     },
     "execution_count": 18,
     "metadata": {},
     "output_type": "execute_result"
    }
   ],
   "source": [
    "len(\"hello world\")"
   ]
  },
  {
   "cell_type": "code",
   "execution_count": 24,
   "id": "8f5f854e",
   "metadata": {},
   "outputs": [
    {
     "data": {
      "text/plain": [
       "0          Aaron,elvia\n",
       "1      Aaron,jeffdry m\n",
       "2        Aaron,kimbele\n",
       "3      Abad jr,vicente\n",
       "4     Zygowice,peter r\n",
       "5      Zymantar,mark e\n",
       "6    Zyrkowski,carld e\n",
       "7     Zyskowski,darliz\n",
       "Name: Name, dtype: object"
      ]
     },
     "execution_count": 24,
     "metadata": {},
     "output_type": "execute_result"
    }
   ],
   "source": [
    "con[\"Name\"].str.title()\n",
    "con[\"Name\"].str.lower()\n",
    "con[\"Name\"].str.upper()\n",
    "con[\"Name\"].str.capitalize()"
   ]
  },
  {
   "cell_type": "code",
   "execution_count": 25,
   "id": "8d9b1ec1",
   "metadata": {},
   "outputs": [
    {
     "data": {
      "text/plain": [
       "0          AARON,ELVIA\n",
       "1      AARON,JEFFDRY M\n",
       "2        AARON,KIMBELE\n",
       "3      ABAD JR,VICENTE\n",
       "4     ZYGOWICE,PETER R\n",
       "5      ZYMANTAR,MARK E\n",
       "6    ZYRKOWSKI,CARLD E\n",
       "7     ZYSKOWSKI,DARLIZ\n",
       "Name: Name, dtype: object"
      ]
     },
     "execution_count": 25,
     "metadata": {},
     "output_type": "execute_result"
    }
   ],
   "source": [
    "con[\"Name\"].str.lower().str.upper()\n"
   ]
  },
  {
   "cell_type": "code",
   "execution_count": 27,
   "id": "88adc44d",
   "metadata": {},
   "outputs": [],
   "source": [
    "con[\"Position Title\"]=con[\"Position Title\"].str.title()"
   ]
  },
  {
   "cell_type": "code",
   "execution_count": 28,
   "id": "fd913c91",
   "metadata": {},
   "outputs": [
    {
     "data": {
      "text/html": [
       "<div>\n",
       "<style scoped>\n",
       "    .dataframe tbody tr th:only-of-type {\n",
       "        vertical-align: middle;\n",
       "    }\n",
       "\n",
       "    .dataframe tbody tr th {\n",
       "        vertical-align: top;\n",
       "    }\n",
       "\n",
       "    .dataframe thead th {\n",
       "        text-align: right;\n",
       "    }\n",
       "</style>\n",
       "<table border=\"1\" class=\"dataframe\">\n",
       "  <thead>\n",
       "    <tr style=\"text-align: right;\">\n",
       "      <th></th>\n",
       "      <th>Name</th>\n",
       "      <th>Position Title</th>\n",
       "      <th>Department</th>\n",
       "      <th>Employee Annual Salary</th>\n",
       "    </tr>\n",
       "  </thead>\n",
       "  <tbody>\n",
       "    <tr>\n",
       "      <th>0</th>\n",
       "      <td>AARON,ELVIA</td>\n",
       "      <td>Water Rate Taker</td>\n",
       "      <td>WATER MGMNT</td>\n",
       "      <td>1000000.0</td>\n",
       "    </tr>\n",
       "    <tr>\n",
       "      <th>1</th>\n",
       "      <td>AARON,JEFFDRY M</td>\n",
       "      <td>Police Officer</td>\n",
       "      <td>POLICE</td>\n",
       "      <td>2000000.0</td>\n",
       "    </tr>\n",
       "    <tr>\n",
       "      <th>2</th>\n",
       "      <td>AARON,KIMBELE</td>\n",
       "      <td>Police Officer</td>\n",
       "      <td>POLICE</td>\n",
       "      <td>NaN</td>\n",
       "    </tr>\n",
       "  </tbody>\n",
       "</table>\n",
       "</div>"
      ],
      "text/plain": [
       "              Name    Position Title   Department  Employee Annual Salary\n",
       "0      AARON,ELVIA  Water Rate Taker  WATER MGMNT               1000000.0\n",
       "1  AARON,JEFFDRY M    Police Officer      POLICE                2000000.0\n",
       "2    AARON,KIMBELE    Police Officer      POLICE                      NaN"
      ]
     },
     "execution_count": 28,
     "metadata": {},
     "output_type": "execute_result"
    }
   ],
   "source": [
    "con.head(3)"
   ]
  },
  {
   "cell_type": "code",
   "execution_count": 29,
   "id": "62c681ef",
   "metadata": {},
   "outputs": [
    {
     "data": {
      "text/plain": [
       "0    16\n",
       "1    14\n",
       "2    14\n",
       "3    23\n",
       "4    15\n",
       "5    14\n",
       "6    20\n",
       "7    14\n",
       "Name: Position Title, dtype: int64"
      ]
     },
     "execution_count": 29,
     "metadata": {},
     "output_type": "execute_result"
    }
   ],
   "source": [
    "con[\"Position Title\"].str.len()"
   ]
  },
  {
   "cell_type": "markdown",
   "id": "20ec16a3",
   "metadata": {},
   "source": [
    "# The .str .replace() Method"
   ]
  },
  {
   "cell_type": "code",
   "execution_count": 37,
   "id": "2b8a53e5",
   "metadata": {},
   "outputs": [
    {
     "data": {
      "text/html": [
       "<div>\n",
       "<style scoped>\n",
       "    .dataframe tbody tr th:only-of-type {\n",
       "        vertical-align: middle;\n",
       "    }\n",
       "\n",
       "    .dataframe tbody tr th {\n",
       "        vertical-align: top;\n",
       "    }\n",
       "\n",
       "    .dataframe thead th {\n",
       "        text-align: right;\n",
       "    }\n",
       "</style>\n",
       "<table border=\"1\" class=\"dataframe\">\n",
       "  <thead>\n",
       "    <tr style=\"text-align: right;\">\n",
       "      <th></th>\n",
       "      <th>Name</th>\n",
       "      <th>Position Title</th>\n",
       "      <th>Department</th>\n",
       "      <th>Employee Annual Salary</th>\n",
       "    </tr>\n",
       "  </thead>\n",
       "  <tbody>\n",
       "    <tr>\n",
       "      <th>5</th>\n",
       "      <td>ZYMANTAR,MARK E</td>\n",
       "      <td>POLICE OFFICER</td>\n",
       "      <td>NaN</td>\n",
       "      <td>8443000.0</td>\n",
       "    </tr>\n",
       "    <tr>\n",
       "      <th>6</th>\n",
       "      <td>ZYRKOWSKI,CARLD E</td>\n",
       "      <td>CHEF DATABASE ANALYS</td>\n",
       "      <td>POLICE</td>\n",
       "      <td>11330000.0</td>\n",
       "    </tr>\n",
       "    <tr>\n",
       "      <th>7</th>\n",
       "      <td>ZYSKOWSKI,DARLIZ</td>\n",
       "      <td>POLICE OFFICER</td>\n",
       "      <td>POLICE</td>\n",
       "      <td>NaN</td>\n",
       "    </tr>\n",
       "  </tbody>\n",
       "</table>\n",
       "</div>"
      ],
      "text/plain": [
       "                Name        Position Title Department  Employee Annual Salary\n",
       "5    ZYMANTAR,MARK E        POLICE OFFICER        NaN               8443000.0\n",
       "6  ZYRKOWSKI,CARLD E  CHEF DATABASE ANALYS    POLICE               11330000.0\n",
       "7   ZYSKOWSKI,DARLIZ        POLICE OFFICER    POLICE                      NaN"
      ]
     },
     "execution_count": 37,
     "metadata": {},
     "output_type": "execute_result"
    }
   ],
   "source": [
    "con=pd.read_csv(r\"C:\\Users\\ELCOT\\Downloads\\txt_method.csv\").dropna(how=\"all\")\n",
    "con[\"Department\"]=con[\"Department\"].astype(\"category\")\n",
    "con.tail(3)"
   ]
  },
  {
   "cell_type": "code",
   "execution_count": 34,
   "id": "adde7b7c",
   "metadata": {},
   "outputs": [
    {
     "data": {
      "text/plain": [
       "'He!!o wor!d'"
      ]
     },
     "execution_count": 34,
     "metadata": {},
     "output_type": "execute_result"
    }
   ],
   "source": [
    "\"Hello world\".replace(\"l\",\"!\")"
   ]
  },
  {
   "cell_type": "code",
   "execution_count": 41,
   "id": "10d998e5",
   "metadata": {},
   "outputs": [],
   "source": [
    "con[\"Department\"]=con[\"Department\"].str.replace(\"MGMNT\",\"MANGEMENT\")"
   ]
  },
  {
   "cell_type": "code",
   "execution_count": 42,
   "id": "205ea718",
   "metadata": {},
   "outputs": [
    {
     "data": {
      "text/html": [
       "<div>\n",
       "<style scoped>\n",
       "    .dataframe tbody tr th:only-of-type {\n",
       "        vertical-align: middle;\n",
       "    }\n",
       "\n",
       "    .dataframe tbody tr th {\n",
       "        vertical-align: top;\n",
       "    }\n",
       "\n",
       "    .dataframe thead th {\n",
       "        text-align: right;\n",
       "    }\n",
       "</style>\n",
       "<table border=\"1\" class=\"dataframe\">\n",
       "  <thead>\n",
       "    <tr style=\"text-align: right;\">\n",
       "      <th></th>\n",
       "      <th>Name</th>\n",
       "      <th>Position Title</th>\n",
       "      <th>Department</th>\n",
       "      <th>Employee Annual Salary</th>\n",
       "    </tr>\n",
       "  </thead>\n",
       "  <tbody>\n",
       "    <tr>\n",
       "      <th>0</th>\n",
       "      <td>AARON,ELVIA</td>\n",
       "      <td>WATER RATE TAKER</td>\n",
       "      <td>WATER MANGEMENT</td>\n",
       "      <td>1000000.0</td>\n",
       "    </tr>\n",
       "    <tr>\n",
       "      <th>1</th>\n",
       "      <td>AARON,JEFFDRY M</td>\n",
       "      <td>POLICE OFFICER</td>\n",
       "      <td>POLICE</td>\n",
       "      <td>2000000.0</td>\n",
       "    </tr>\n",
       "    <tr>\n",
       "      <th>2</th>\n",
       "      <td>AARON,KIMBELE</td>\n",
       "      <td>POLICE OFFICER</td>\n",
       "      <td>POLICE</td>\n",
       "      <td>NaN</td>\n",
       "    </tr>\n",
       "    <tr>\n",
       "      <th>3</th>\n",
       "      <td>ABAD JR,VICENTE</td>\n",
       "      <td>CHEF CONTRACT EXPEDITER</td>\n",
       "      <td>GENERAL SERVICES</td>\n",
       "      <td>6000000.0</td>\n",
       "    </tr>\n",
       "    <tr>\n",
       "      <th>4</th>\n",
       "      <td>ZYGOWICE,PETER R</td>\n",
       "      <td>CIVIL ENGINEER</td>\n",
       "      <td>WATER MOMENT</td>\n",
       "      <td>5000000.0</td>\n",
       "    </tr>\n",
       "  </tbody>\n",
       "</table>\n",
       "</div>"
      ],
      "text/plain": [
       "               Name           Position Title        Department  \\\n",
       "0       AARON,ELVIA         WATER RATE TAKER   WATER MANGEMENT   \n",
       "1   AARON,JEFFDRY M           POLICE OFFICER           POLICE    \n",
       "2     AARON,KIMBELE           POLICE OFFICER           POLICE    \n",
       "3   ABAD JR,VICENTE  CHEF CONTRACT EXPEDITER  GENERAL SERVICES   \n",
       "4  ZYGOWICE,PETER R          CIVIL ENGINEER       WATER MOMENT   \n",
       "\n",
       "   Employee Annual Salary  \n",
       "0               1000000.0  \n",
       "1               2000000.0  \n",
       "2                     NaN  \n",
       "3               6000000.0  \n",
       "4               5000000.0  "
      ]
     },
     "execution_count": 42,
     "metadata": {},
     "output_type": "execute_result"
    }
   ],
   "source": [
    "con.head()"
   ]
  },
  {
   "cell_type": "code",
   "execution_count": null,
   "id": "94c605b2",
   "metadata": {},
   "outputs": [],
   "source": [
    "con[\"Employee Annual Salary\"]=con[\"Employee Annual Salary\"].str.replace(\"$\",\"\").astype(\"float\")\n",
    "con.head(4)"
   ]
  },
  {
   "cell_type": "code",
   "execution_count": 46,
   "id": "d784b86c",
   "metadata": {},
   "outputs": [
    {
     "data": {
      "text/plain": [
       "33773000.0"
      ]
     },
     "execution_count": 46,
     "metadata": {},
     "output_type": "execute_result"
    }
   ],
   "source": [
    "con[\"Employee Annual Salary\"].sum()"
   ]
  },
  {
   "cell_type": "markdown",
   "id": "dfc3f14b",
   "metadata": {},
   "source": [
    "# Filtering With string Methods"
   ]
  },
  {
   "cell_type": "code",
   "execution_count": 48,
   "id": "f045f161",
   "metadata": {},
   "outputs": [
    {
     "data": {
      "text/html": [
       "<div>\n",
       "<style scoped>\n",
       "    .dataframe tbody tr th:only-of-type {\n",
       "        vertical-align: middle;\n",
       "    }\n",
       "\n",
       "    .dataframe tbody tr th {\n",
       "        vertical-align: top;\n",
       "    }\n",
       "\n",
       "    .dataframe thead th {\n",
       "        text-align: right;\n",
       "    }\n",
       "</style>\n",
       "<table border=\"1\" class=\"dataframe\">\n",
       "  <thead>\n",
       "    <tr style=\"text-align: right;\">\n",
       "      <th></th>\n",
       "      <th>Name</th>\n",
       "      <th>Position Title</th>\n",
       "      <th>Department</th>\n",
       "      <th>Employee Annual Salary</th>\n",
       "    </tr>\n",
       "  </thead>\n",
       "  <tbody>\n",
       "    <tr>\n",
       "      <th>4</th>\n",
       "      <td>ZYGOWICE,PETER R</td>\n",
       "      <td>CIVIL ENGINEER</td>\n",
       "      <td>WATER MOMENT</td>\n",
       "      <td>5000000.0</td>\n",
       "    </tr>\n",
       "    <tr>\n",
       "      <th>5</th>\n",
       "      <td>ZYMANTAR,MARK E</td>\n",
       "      <td>POLICE OFFICER</td>\n",
       "      <td>NaN</td>\n",
       "      <td>8443000.0</td>\n",
       "    </tr>\n",
       "    <tr>\n",
       "      <th>6</th>\n",
       "      <td>ZYRKOWSKI,CARLD E</td>\n",
       "      <td>CHEF DATABASE ANALYS</td>\n",
       "      <td>POLICE</td>\n",
       "      <td>11330000.0</td>\n",
       "    </tr>\n",
       "    <tr>\n",
       "      <th>7</th>\n",
       "      <td>ZYSKOWSKI,DARLIZ</td>\n",
       "      <td>POLICE OFFICER</td>\n",
       "      <td>POLICE</td>\n",
       "      <td>NaN</td>\n",
       "    </tr>\n",
       "  </tbody>\n",
       "</table>\n",
       "</div>"
      ],
      "text/plain": [
       "                Name        Position Title    Department  \\\n",
       "4   ZYGOWICE,PETER R       CIVIL ENGINEER   WATER MOMENT   \n",
       "5    ZYMANTAR,MARK E        POLICE OFFICER           NaN   \n",
       "6  ZYRKOWSKI,CARLD E  CHEF DATABASE ANALYS       POLICE    \n",
       "7   ZYSKOWSKI,DARLIZ        POLICE OFFICER       POLICE    \n",
       "\n",
       "   Employee Annual Salary  \n",
       "4               5000000.0  \n",
       "5               8443000.0  \n",
       "6              11330000.0  \n",
       "7                     NaN  "
      ]
     },
     "execution_count": 48,
     "metadata": {},
     "output_type": "execute_result"
    }
   ],
   "source": [
    "con=pd.read_csv(r\"C:\\Users\\ELCOT\\Downloads\\txt_method.csv\").dropna(how=\"all\")\n",
    "con[\"Department\"]=con[\"Department\"].astype(\"category\")\n",
    "con.tail(4)"
   ]
  },
  {
   "cell_type": "code",
   "execution_count": 51,
   "id": "bb0cbd22",
   "metadata": {},
   "outputs": [
    {
     "data": {
      "text/plain": [
       "0           water rate taker\n",
       "1             police officer\n",
       "2             police officer\n",
       "3    chef contract expediter\n",
       "4            civil engineer \n",
       "5             police officer\n",
       "6       chef database analys\n",
       "7             police officer\n",
       "Name: Position Title, dtype: object"
      ]
     },
     "execution_count": 51,
     "metadata": {},
     "output_type": "execute_result"
    }
   ],
   "source": [
    "con[\"Position Title\"].str.lower()"
   ]
  },
  {
   "cell_type": "code",
   "execution_count": 53,
   "id": "83175db1",
   "metadata": {},
   "outputs": [
    {
     "data": {
      "text/html": [
       "<div>\n",
       "<style scoped>\n",
       "    .dataframe tbody tr th:only-of-type {\n",
       "        vertical-align: middle;\n",
       "    }\n",
       "\n",
       "    .dataframe tbody tr th {\n",
       "        vertical-align: top;\n",
       "    }\n",
       "\n",
       "    .dataframe thead th {\n",
       "        text-align: right;\n",
       "    }\n",
       "</style>\n",
       "<table border=\"1\" class=\"dataframe\">\n",
       "  <thead>\n",
       "    <tr style=\"text-align: right;\">\n",
       "      <th></th>\n",
       "      <th>Name</th>\n",
       "      <th>Position Title</th>\n",
       "      <th>Department</th>\n",
       "      <th>Employee Annual Salary</th>\n",
       "    </tr>\n",
       "  </thead>\n",
       "  <tbody>\n",
       "    <tr>\n",
       "      <th>0</th>\n",
       "      <td>AARON,ELVIA</td>\n",
       "      <td>WATER RATE TAKER</td>\n",
       "      <td>WATER MGMNT</td>\n",
       "      <td>1000000.0</td>\n",
       "    </tr>\n",
       "  </tbody>\n",
       "</table>\n",
       "</div>"
      ],
      "text/plain": [
       "          Name    Position Title   Department  Employee Annual Salary\n",
       "0  AARON,ELVIA  WATER RATE TAKER  WATER MGMNT               1000000.0"
      ]
     },
     "execution_count": 53,
     "metadata": {},
     "output_type": "execute_result"
    }
   ],
   "source": [
    "txt=con[\"Position Title\"].str.lower().str.contains(\"water\")\n",
    "con[txt]"
   ]
  },
  {
   "cell_type": "code",
   "execution_count": 55,
   "id": "275ab9ec",
   "metadata": {},
   "outputs": [
    {
     "data": {
      "text/html": [
       "<div>\n",
       "<style scoped>\n",
       "    .dataframe tbody tr th:only-of-type {\n",
       "        vertical-align: middle;\n",
       "    }\n",
       "\n",
       "    .dataframe tbody tr th {\n",
       "        vertical-align: top;\n",
       "    }\n",
       "\n",
       "    .dataframe thead th {\n",
       "        text-align: right;\n",
       "    }\n",
       "</style>\n",
       "<table border=\"1\" class=\"dataframe\">\n",
       "  <thead>\n",
       "    <tr style=\"text-align: right;\">\n",
       "      <th></th>\n",
       "      <th>Name</th>\n",
       "      <th>Position Title</th>\n",
       "      <th>Department</th>\n",
       "      <th>Employee Annual Salary</th>\n",
       "    </tr>\n",
       "  </thead>\n",
       "  <tbody>\n",
       "    <tr>\n",
       "      <th>0</th>\n",
       "      <td>AARON,ELVIA</td>\n",
       "      <td>WATER RATE TAKER</td>\n",
       "      <td>WATER MGMNT</td>\n",
       "      <td>1000000.0</td>\n",
       "    </tr>\n",
       "  </tbody>\n",
       "</table>\n",
       "</div>"
      ],
      "text/plain": [
       "          Name    Position Title   Department  Employee Annual Salary\n",
       "0  AARON,ELVIA  WATER RATE TAKER  WATER MGMNT               1000000.0"
      ]
     },
     "execution_count": 55,
     "metadata": {},
     "output_type": "execute_result"
    }
   ],
   "source": [
    "con[con[\"Position Title\"].str.lower().str.startswith(\"water\")]\n"
   ]
  },
  {
   "cell_type": "code",
   "execution_count": 58,
   "id": "f1c4c911",
   "metadata": {},
   "outputs": [
    {
     "data": {
      "text/html": [
       "<div>\n",
       "<style scoped>\n",
       "    .dataframe tbody tr th:only-of-type {\n",
       "        vertical-align: middle;\n",
       "    }\n",
       "\n",
       "    .dataframe tbody tr th {\n",
       "        vertical-align: top;\n",
       "    }\n",
       "\n",
       "    .dataframe thead th {\n",
       "        text-align: right;\n",
       "    }\n",
       "</style>\n",
       "<table border=\"1\" class=\"dataframe\">\n",
       "  <thead>\n",
       "    <tr style=\"text-align: right;\">\n",
       "      <th></th>\n",
       "      <th>Name</th>\n",
       "      <th>Position Title</th>\n",
       "      <th>Department</th>\n",
       "      <th>Employee Annual Salary</th>\n",
       "    </tr>\n",
       "  </thead>\n",
       "  <tbody>\n",
       "  </tbody>\n",
       "</table>\n",
       "</div>"
      ],
      "text/plain": [
       "Empty DataFrame\n",
       "Columns: [Name, Position Title, Department, Employee Annual Salary]\n",
       "Index: []"
      ]
     },
     "execution_count": 58,
     "metadata": {},
     "output_type": "execute_result"
    }
   ],
   "source": [
    "mask=con[\"Position Title\"].str.lower().str.endswith(\"water\")\n",
    "con[mask]"
   ]
  },
  {
   "cell_type": "markdown",
   "id": "8a33f678",
   "metadata": {},
   "source": [
    "# More string Methods- .strip(),.lstrip(),.rstrip()"
   ]
  },
  {
   "cell_type": "code",
   "execution_count": 59,
   "id": "1a93b9a5",
   "metadata": {},
   "outputs": [
    {
     "data": {
      "text/html": [
       "<div>\n",
       "<style scoped>\n",
       "    .dataframe tbody tr th:only-of-type {\n",
       "        vertical-align: middle;\n",
       "    }\n",
       "\n",
       "    .dataframe tbody tr th {\n",
       "        vertical-align: top;\n",
       "    }\n",
       "\n",
       "    .dataframe thead th {\n",
       "        text-align: right;\n",
       "    }\n",
       "</style>\n",
       "<table border=\"1\" class=\"dataframe\">\n",
       "  <thead>\n",
       "    <tr style=\"text-align: right;\">\n",
       "      <th></th>\n",
       "      <th>Name</th>\n",
       "      <th>Position Title</th>\n",
       "      <th>Department</th>\n",
       "      <th>Employee Annual Salary</th>\n",
       "    </tr>\n",
       "  </thead>\n",
       "  <tbody>\n",
       "    <tr>\n",
       "      <th>4</th>\n",
       "      <td>ZYGOWICE,PETER R</td>\n",
       "      <td>CIVIL ENGINEER</td>\n",
       "      <td>WATER MOMENT</td>\n",
       "      <td>5000000.0</td>\n",
       "    </tr>\n",
       "    <tr>\n",
       "      <th>5</th>\n",
       "      <td>ZYMANTAR,MARK E</td>\n",
       "      <td>POLICE OFFICER</td>\n",
       "      <td>NaN</td>\n",
       "      <td>8443000.0</td>\n",
       "    </tr>\n",
       "    <tr>\n",
       "      <th>6</th>\n",
       "      <td>ZYRKOWSKI,CARLD E</td>\n",
       "      <td>CHEF DATABASE ANALYS</td>\n",
       "      <td>POLICE</td>\n",
       "      <td>11330000.0</td>\n",
       "    </tr>\n",
       "    <tr>\n",
       "      <th>7</th>\n",
       "      <td>ZYSKOWSKI,DARLIZ</td>\n",
       "      <td>POLICE OFFICER</td>\n",
       "      <td>POLICE</td>\n",
       "      <td>NaN</td>\n",
       "    </tr>\n",
       "  </tbody>\n",
       "</table>\n",
       "</div>"
      ],
      "text/plain": [
       "                Name        Position Title    Department  \\\n",
       "4   ZYGOWICE,PETER R       CIVIL ENGINEER   WATER MOMENT   \n",
       "5    ZYMANTAR,MARK E        POLICE OFFICER           NaN   \n",
       "6  ZYRKOWSKI,CARLD E  CHEF DATABASE ANALYS       POLICE    \n",
       "7   ZYSKOWSKI,DARLIZ        POLICE OFFICER       POLICE    \n",
       "\n",
       "   Employee Annual Salary  \n",
       "4               5000000.0  \n",
       "5               8443000.0  \n",
       "6              11330000.0  \n",
       "7                     NaN  "
      ]
     },
     "execution_count": 59,
     "metadata": {},
     "output_type": "execute_result"
    }
   ],
   "source": [
    "con=pd.read_csv(r\"C:\\Users\\ELCOT\\Downloads\\txt_method.csv\").dropna(how=\"all\")\n",
    "con[\"Department\"]=con[\"Department\"].astype(\"category\")\n",
    "con.tail(4)"
   ]
  },
  {
   "cell_type": "code",
   "execution_count": 67,
   "id": "e74bd2bb",
   "metadata": {},
   "outputs": [
    {
     "data": {
      "text/plain": [
       "'Hello World'"
      ]
     },
     "execution_count": 67,
     "metadata": {},
     "output_type": "execute_result"
    }
   ],
   "source": [
    "\"       Hello World\".strip()"
   ]
  },
  {
   "cell_type": "code",
   "execution_count": 70,
   "id": "24dd1b07",
   "metadata": {},
   "outputs": [
    {
     "data": {
      "text/plain": [
       "0          AARON,ELVIA\n",
       "1      AARON,JEFFDRY M\n",
       "2        AARON,KIMBELE\n",
       "3      ABAD JR,VICENTE\n",
       "4     ZYGOWICE,PETER R\n",
       "5      ZYMANTAR,MARK E\n",
       "6    ZYRKOWSKI,CARLD E\n",
       "7     ZYSKOWSKI,DARLIZ\n",
       "Name: Name, dtype: object"
      ]
     },
     "execution_count": 70,
     "metadata": {},
     "output_type": "execute_result"
    }
   ],
   "source": [
    "con[\"Name\"]"
   ]
  },
  {
   "cell_type": "code",
   "execution_count": 73,
   "id": "40e991be",
   "metadata": {},
   "outputs": [
    {
     "data": {
      "text/html": [
       "<div>\n",
       "<style scoped>\n",
       "    .dataframe tbody tr th:only-of-type {\n",
       "        vertical-align: middle;\n",
       "    }\n",
       "\n",
       "    .dataframe tbody tr th {\n",
       "        vertical-align: top;\n",
       "    }\n",
       "\n",
       "    .dataframe thead th {\n",
       "        text-align: right;\n",
       "    }\n",
       "</style>\n",
       "<table border=\"1\" class=\"dataframe\">\n",
       "  <thead>\n",
       "    <tr style=\"text-align: right;\">\n",
       "      <th></th>\n",
       "      <th>Name</th>\n",
       "      <th>Position Title</th>\n",
       "      <th>Department</th>\n",
       "      <th>Employee Annual Salary</th>\n",
       "    </tr>\n",
       "  </thead>\n",
       "  <tbody>\n",
       "    <tr>\n",
       "      <th>0</th>\n",
       "      <td>AARON,ELVIA</td>\n",
       "      <td>WATER RATE TAKER</td>\n",
       "      <td>WATER MGMNT</td>\n",
       "      <td>1000000.0</td>\n",
       "    </tr>\n",
       "    <tr>\n",
       "      <th>1</th>\n",
       "      <td>AARON,JEFFDRY M</td>\n",
       "      <td>POLICE OFFICER</td>\n",
       "      <td>POLICE</td>\n",
       "      <td>2000000.0</td>\n",
       "    </tr>\n",
       "    <tr>\n",
       "      <th>2</th>\n",
       "      <td>AARON,KIMBELE</td>\n",
       "      <td>POLICE OFFICER</td>\n",
       "      <td>POLICE</td>\n",
       "      <td>NaN</td>\n",
       "    </tr>\n",
       "    <tr>\n",
       "      <th>3</th>\n",
       "      <td>ABAD JR,VICENTE</td>\n",
       "      <td>CHEF CONTRACT EXPEDITER</td>\n",
       "      <td>GENERAL SERVICES</td>\n",
       "      <td>6000000.0</td>\n",
       "    </tr>\n",
       "    <tr>\n",
       "      <th>4</th>\n",
       "      <td>ZYGOWICE,PETER R</td>\n",
       "      <td>CIVIL ENGINEER</td>\n",
       "      <td>WATER MOMENT</td>\n",
       "      <td>5000000.0</td>\n",
       "    </tr>\n",
       "  </tbody>\n",
       "</table>\n",
       "</div>"
      ],
      "text/plain": [
       "               Name           Position Title        Department  \\\n",
       "0       AARON,ELVIA         WATER RATE TAKER       WATER MGMNT   \n",
       "1   AARON,JEFFDRY M           POLICE OFFICER           POLICE    \n",
       "2     AARON,KIMBELE           POLICE OFFICER           POLICE    \n",
       "3   ABAD JR,VICENTE  CHEF CONTRACT EXPEDITER  GENERAL SERVICES   \n",
       "4  ZYGOWICE,PETER R          CIVIL ENGINEER       WATER MOMENT   \n",
       "\n",
       "   Employee Annual Salary  \n",
       "0               1000000.0  \n",
       "1               2000000.0  \n",
       "2                     NaN  \n",
       "3               6000000.0  \n",
       "4               5000000.0  "
      ]
     },
     "execution_count": 73,
     "metadata": {},
     "output_type": "execute_result"
    }
   ],
   "source": [
    "con[\"Name\"]=con[\"Name\"].str.rstrip().str.lstrip()\n",
    "con.head()"
   ]
  },
  {
   "cell_type": "code",
   "execution_count": 74,
   "id": "d7deb85e",
   "metadata": {},
   "outputs": [],
   "source": [
    "con[\"Position Title\"]=con[\"Position Title\"].str.strip()\n"
   ]
  },
  {
   "cell_type": "markdown",
   "id": "83ac1bb4",
   "metadata": {},
   "source": [
    "# String Methods on Index and Columns"
   ]
  },
  {
   "cell_type": "code",
   "execution_count": 76,
   "id": "dabb0892",
   "metadata": {},
   "outputs": [
    {
     "data": {
      "text/html": [
       "<div>\n",
       "<style scoped>\n",
       "    .dataframe tbody tr th:only-of-type {\n",
       "        vertical-align: middle;\n",
       "    }\n",
       "\n",
       "    .dataframe tbody tr th {\n",
       "        vertical-align: top;\n",
       "    }\n",
       "\n",
       "    .dataframe thead th {\n",
       "        text-align: right;\n",
       "    }\n",
       "</style>\n",
       "<table border=\"1\" class=\"dataframe\">\n",
       "  <thead>\n",
       "    <tr style=\"text-align: right;\">\n",
       "      <th></th>\n",
       "      <th>Position Title</th>\n",
       "      <th>Department</th>\n",
       "      <th>Employee Annual Salary</th>\n",
       "    </tr>\n",
       "    <tr>\n",
       "      <th>Name</th>\n",
       "      <th></th>\n",
       "      <th></th>\n",
       "      <th></th>\n",
       "    </tr>\n",
       "  </thead>\n",
       "  <tbody>\n",
       "    <tr>\n",
       "      <th>ZYGOWICE,PETER R</th>\n",
       "      <td>CIVIL ENGINEER</td>\n",
       "      <td>WATER MOMENT</td>\n",
       "      <td>5000000.0</td>\n",
       "    </tr>\n",
       "    <tr>\n",
       "      <th>ZYMANTAR,MARK E</th>\n",
       "      <td>POLICE OFFICER</td>\n",
       "      <td>NaN</td>\n",
       "      <td>8443000.0</td>\n",
       "    </tr>\n",
       "    <tr>\n",
       "      <th>ZYRKOWSKI,CARLD E</th>\n",
       "      <td>CHEF DATABASE ANALYS</td>\n",
       "      <td>POLICE</td>\n",
       "      <td>11330000.0</td>\n",
       "    </tr>\n",
       "    <tr>\n",
       "      <th>ZYSKOWSKI,DARLIZ</th>\n",
       "      <td>POLICE OFFICER</td>\n",
       "      <td>POLICE</td>\n",
       "      <td>NaN</td>\n",
       "    </tr>\n",
       "  </tbody>\n",
       "</table>\n",
       "</div>"
      ],
      "text/plain": [
       "                         Position Title    Department  Employee Annual Salary\n",
       "Name                                                                         \n",
       "ZYGOWICE,PETER R        CIVIL ENGINEER   WATER MOMENT               5000000.0\n",
       "ZYMANTAR,MARK E          POLICE OFFICER           NaN               8443000.0\n",
       "ZYRKOWSKI,CARLD E  CHEF DATABASE ANALYS       POLICE               11330000.0\n",
       "ZYSKOWSKI,DARLIZ         POLICE OFFICER       POLICE                      NaN"
      ]
     },
     "execution_count": 76,
     "metadata": {},
     "output_type": "execute_result"
    }
   ],
   "source": [
    "con=pd.read_csv(r\"C:\\Users\\ELCOT\\Downloads\\txt_method.csv\",index_col=\"Name\").dropna(how=\"all\")\n",
    "con[\"Department\"]=con[\"Department\"].astype(\"category\")\n",
    "con.tail(4)"
   ]
  },
  {
   "cell_type": "code",
   "execution_count": 80,
   "id": "c0bd13be",
   "metadata": {},
   "outputs": [],
   "source": [
    "con.index=con.index.str.strip().str.title()"
   ]
  },
  {
   "cell_type": "code",
   "execution_count": 81,
   "id": "7d8a7952",
   "metadata": {},
   "outputs": [
    {
     "data": {
      "text/html": [
       "<div>\n",
       "<style scoped>\n",
       "    .dataframe tbody tr th:only-of-type {\n",
       "        vertical-align: middle;\n",
       "    }\n",
       "\n",
       "    .dataframe tbody tr th {\n",
       "        vertical-align: top;\n",
       "    }\n",
       "\n",
       "    .dataframe thead th {\n",
       "        text-align: right;\n",
       "    }\n",
       "</style>\n",
       "<table border=\"1\" class=\"dataframe\">\n",
       "  <thead>\n",
       "    <tr style=\"text-align: right;\">\n",
       "      <th></th>\n",
       "      <th>Position Title</th>\n",
       "      <th>Department</th>\n",
       "      <th>Employee Annual Salary</th>\n",
       "    </tr>\n",
       "    <tr>\n",
       "      <th>Name</th>\n",
       "      <th></th>\n",
       "      <th></th>\n",
       "      <th></th>\n",
       "    </tr>\n",
       "  </thead>\n",
       "  <tbody>\n",
       "    <tr>\n",
       "      <th>Aaron,Elvia</th>\n",
       "      <td>WATER RATE TAKER</td>\n",
       "      <td>WATER MGMNT</td>\n",
       "      <td>1000000.0</td>\n",
       "    </tr>\n",
       "    <tr>\n",
       "      <th>Aaron,Jeffdry M</th>\n",
       "      <td>POLICE OFFICER</td>\n",
       "      <td>POLICE</td>\n",
       "      <td>2000000.0</td>\n",
       "    </tr>\n",
       "    <tr>\n",
       "      <th>Aaron,Kimbele</th>\n",
       "      <td>POLICE OFFICER</td>\n",
       "      <td>POLICE</td>\n",
       "      <td>NaN</td>\n",
       "    </tr>\n",
       "  </tbody>\n",
       "</table>\n",
       "</div>"
      ],
      "text/plain": [
       "                   Position Title   Department  Employee Annual Salary\n",
       "Name                                                                  \n",
       "Aaron,Elvia      WATER RATE TAKER  WATER MGMNT               1000000.0\n",
       "Aaron,Jeffdry M    POLICE OFFICER      POLICE                2000000.0\n",
       "Aaron,Kimbele      POLICE OFFICER      POLICE                      NaN"
      ]
     },
     "execution_count": 81,
     "metadata": {},
     "output_type": "execute_result"
    }
   ],
   "source": [
    "con.head(3)"
   ]
  },
  {
   "cell_type": "code",
   "execution_count": 84,
   "id": "39ca3414",
   "metadata": {},
   "outputs": [],
   "source": [
    "con.columns=con.columns.str.upper()"
   ]
  },
  {
   "cell_type": "code",
   "execution_count": 85,
   "id": "780cbbf5",
   "metadata": {},
   "outputs": [
    {
     "data": {
      "text/html": [
       "<div>\n",
       "<style scoped>\n",
       "    .dataframe tbody tr th:only-of-type {\n",
       "        vertical-align: middle;\n",
       "    }\n",
       "\n",
       "    .dataframe tbody tr th {\n",
       "        vertical-align: top;\n",
       "    }\n",
       "\n",
       "    .dataframe thead th {\n",
       "        text-align: right;\n",
       "    }\n",
       "</style>\n",
       "<table border=\"1\" class=\"dataframe\">\n",
       "  <thead>\n",
       "    <tr style=\"text-align: right;\">\n",
       "      <th></th>\n",
       "      <th>POSITION TITLE</th>\n",
       "      <th>DEPARTMENT</th>\n",
       "      <th>EMPLOYEE ANNUAL SALARY</th>\n",
       "    </tr>\n",
       "    <tr>\n",
       "      <th>Name</th>\n",
       "      <th></th>\n",
       "      <th></th>\n",
       "      <th></th>\n",
       "    </tr>\n",
       "  </thead>\n",
       "  <tbody>\n",
       "    <tr>\n",
       "      <th>Aaron,Elvia</th>\n",
       "      <td>WATER RATE TAKER</td>\n",
       "      <td>WATER MGMNT</td>\n",
       "      <td>1000000.0</td>\n",
       "    </tr>\n",
       "    <tr>\n",
       "      <th>Aaron,Jeffdry M</th>\n",
       "      <td>POLICE OFFICER</td>\n",
       "      <td>POLICE</td>\n",
       "      <td>2000000.0</td>\n",
       "    </tr>\n",
       "    <tr>\n",
       "      <th>Aaron,Kimbele</th>\n",
       "      <td>POLICE OFFICER</td>\n",
       "      <td>POLICE</td>\n",
       "      <td>NaN</td>\n",
       "    </tr>\n",
       "  </tbody>\n",
       "</table>\n",
       "</div>"
      ],
      "text/plain": [
       "                   POSITION TITLE   DEPARTMENT  EMPLOYEE ANNUAL SALARY\n",
       "Name                                                                  \n",
       "Aaron,Elvia      WATER RATE TAKER  WATER MGMNT               1000000.0\n",
       "Aaron,Jeffdry M    POLICE OFFICER      POLICE                2000000.0\n",
       "Aaron,Kimbele      POLICE OFFICER      POLICE                      NaN"
      ]
     },
     "execution_count": 85,
     "metadata": {},
     "output_type": "execute_result"
    }
   ],
   "source": [
    "con.head(3)"
   ]
  },
  {
   "cell_type": "markdown",
   "id": "d611c346",
   "metadata": {},
   "source": [
    "# Split Strings By characters with .str.split() Method"
   ]
  },
  {
   "cell_type": "code",
   "execution_count": 88,
   "id": "e8f61c02",
   "metadata": {},
   "outputs": [
    {
     "data": {
      "text/html": [
       "<div>\n",
       "<style scoped>\n",
       "    .dataframe tbody tr th:only-of-type {\n",
       "        vertical-align: middle;\n",
       "    }\n",
       "\n",
       "    .dataframe tbody tr th {\n",
       "        vertical-align: top;\n",
       "    }\n",
       "\n",
       "    .dataframe thead th {\n",
       "        text-align: right;\n",
       "    }\n",
       "</style>\n",
       "<table border=\"1\" class=\"dataframe\">\n",
       "  <thead>\n",
       "    <tr style=\"text-align: right;\">\n",
       "      <th></th>\n",
       "      <th>Name</th>\n",
       "      <th>Position Title</th>\n",
       "      <th>Department</th>\n",
       "      <th>Employee Annual Salary</th>\n",
       "    </tr>\n",
       "  </thead>\n",
       "  <tbody>\n",
       "    <tr>\n",
       "      <th>4</th>\n",
       "      <td>ZYGOWICE,PETER R</td>\n",
       "      <td>CIVIL ENGINEER</td>\n",
       "      <td>WATER MOMENT</td>\n",
       "      <td>5000000.0</td>\n",
       "    </tr>\n",
       "    <tr>\n",
       "      <th>5</th>\n",
       "      <td>ZYMANTAR,MARK E</td>\n",
       "      <td>POLICE OFFICER</td>\n",
       "      <td>NaN</td>\n",
       "      <td>8443000.0</td>\n",
       "    </tr>\n",
       "    <tr>\n",
       "      <th>6</th>\n",
       "      <td>ZYRKOWSKI,CARLD E</td>\n",
       "      <td>CHEF DATABASE ANALYS</td>\n",
       "      <td>POLICE</td>\n",
       "      <td>11330000.0</td>\n",
       "    </tr>\n",
       "    <tr>\n",
       "      <th>7</th>\n",
       "      <td>ZYSKOWSKI,DARLIZ</td>\n",
       "      <td>POLICE OFFICER</td>\n",
       "      <td>POLICE</td>\n",
       "      <td>NaN</td>\n",
       "    </tr>\n",
       "  </tbody>\n",
       "</table>\n",
       "</div>"
      ],
      "text/plain": [
       "                Name        Position Title    Department  \\\n",
       "4   ZYGOWICE,PETER R       CIVIL ENGINEER   WATER MOMENT   \n",
       "5    ZYMANTAR,MARK E        POLICE OFFICER           NaN   \n",
       "6  ZYRKOWSKI,CARLD E  CHEF DATABASE ANALYS       POLICE    \n",
       "7   ZYSKOWSKI,DARLIZ        POLICE OFFICER       POLICE    \n",
       "\n",
       "   Employee Annual Salary  \n",
       "4               5000000.0  \n",
       "5               8443000.0  \n",
       "6              11330000.0  \n",
       "7                     NaN  "
      ]
     },
     "execution_count": 88,
     "metadata": {},
     "output_type": "execute_result"
    }
   ],
   "source": [
    "con=pd.read_csv(r\"C:\\Users\\ELCOT\\Downloads\\txt_method.csv\").dropna(how=\"all\")\n",
    "con[\"Department\"]=con[\"Department\"].astype(\"category\")\n",
    "con.tail(4)"
   ]
  },
  {
   "cell_type": "code",
   "execution_count": 89,
   "id": "3c396b8e",
   "metadata": {},
   "outputs": [
    {
     "data": {
      "text/plain": [
       "['Hello', 'My', 'Name', 'is', 'Valla']"
      ]
     },
     "execution_count": 89,
     "metadata": {},
     "output_type": "execute_result"
    }
   ],
   "source": [
    "\"Hello My Name is Valla\".split()"
   ]
  },
  {
   "cell_type": "code",
   "execution_count": 91,
   "id": "c7160bd2",
   "metadata": {},
   "outputs": [
    {
     "data": {
      "text/plain": [
       "0          [AARON, ELVIA]\n",
       "1      [AARON, JEFFDRY M]\n",
       "2        [AARON, KIMBELE]\n",
       "3      [ABAD JR, VICENTE]\n",
       "4     [ZYGOWICE, PETER R]\n",
       "5      [ZYMANTAR, MARK E]\n",
       "6    [ZYRKOWSKI, CARLD E]\n",
       "7     [ZYSKOWSKI, DARLIZ]\n",
       "Name: Name, dtype: object"
      ]
     },
     "execution_count": 91,
     "metadata": {},
     "output_type": "execute_result"
    }
   ],
   "source": [
    "con[\"Name\"].str.split(\",\")"
   ]
  },
  {
   "cell_type": "code",
   "execution_count": 95,
   "id": "6d8cf227",
   "metadata": {},
   "outputs": [
    {
     "data": {
      "text/plain": [
       "0        AARON\n",
       "1        AARON\n",
       "2        AARON\n",
       "3      ABAD JR\n",
       "4     ZYGOWICE\n",
       "5     ZYMANTAR\n",
       "6    ZYRKOWSKI\n",
       "7    ZYSKOWSKI\n",
       "Name: Name, dtype: object"
      ]
     },
     "execution_count": 95,
     "metadata": {},
     "output_type": "execute_result"
    }
   ],
   "source": [
    "con[\"Name\"].str.split(\",\").str.get(0)"
   ]
  },
  {
   "cell_type": "code",
   "execution_count": 96,
   "id": "e119d264",
   "metadata": {},
   "outputs": [
    {
     "data": {
      "text/plain": [
       "Aaron        3\n",
       "Abad Jr      1\n",
       "Zygowice     1\n",
       "Zymantar     1\n",
       "Zyrkowski    1\n",
       "Zyskowski    1\n",
       "Name: Name, dtype: int64"
      ]
     },
     "execution_count": 96,
     "metadata": {},
     "output_type": "execute_result"
    }
   ],
   "source": [
    "con[\"Name\"].str.split(\",\").str.get(0).str.title().value_counts()"
   ]
  },
  {
   "cell_type": "code",
   "execution_count": 97,
   "id": "58261b24",
   "metadata": {},
   "outputs": [
    {
     "data": {
      "text/plain": [
       "0           WATER RATE TAKER\n",
       "1             POLICE OFFICER\n",
       "2             POLICE OFFICER\n",
       "3    CHEF CONTRACT EXPEDITER\n",
       "4            CIVIL ENGINEER \n",
       "5             POLICE OFFICER\n",
       "6       CHEF DATABASE ANALYS\n",
       "7             POLICE OFFICER\n",
       "Name: Position Title, dtype: object"
      ]
     },
     "execution_count": 97,
     "metadata": {},
     "output_type": "execute_result"
    }
   ],
   "source": [
    "con[\"Position Title\"]"
   ]
  },
  {
   "cell_type": "code",
   "execution_count": 101,
   "id": "9c07178d",
   "metadata": {},
   "outputs": [
    {
     "data": {
      "text/plain": [
       "POLICE    4\n",
       "CHEF      2\n",
       "WATER     1\n",
       "CIVIL     1\n",
       "Name: Position Title, dtype: int64"
      ]
     },
     "execution_count": 101,
     "metadata": {},
     "output_type": "execute_result"
    }
   ],
   "source": [
    "con[\"Position Title\"].str.split(\" \").str.get(0).value_counts()"
   ]
  },
  {
   "cell_type": "markdown",
   "id": "e3f7868d",
   "metadata": {},
   "source": [
    "# More Practice with splits"
   ]
  },
  {
   "cell_type": "code",
   "execution_count": 103,
   "id": "32e15150",
   "metadata": {},
   "outputs": [
    {
     "data": {
      "text/html": [
       "<div>\n",
       "<style scoped>\n",
       "    .dataframe tbody tr th:only-of-type {\n",
       "        vertical-align: middle;\n",
       "    }\n",
       "\n",
       "    .dataframe tbody tr th {\n",
       "        vertical-align: top;\n",
       "    }\n",
       "\n",
       "    .dataframe thead th {\n",
       "        text-align: right;\n",
       "    }\n",
       "</style>\n",
       "<table border=\"1\" class=\"dataframe\">\n",
       "  <thead>\n",
       "    <tr style=\"text-align: right;\">\n",
       "      <th></th>\n",
       "      <th>Name</th>\n",
       "      <th>Position Title</th>\n",
       "      <th>Department</th>\n",
       "      <th>Employee Annual Salary</th>\n",
       "    </tr>\n",
       "  </thead>\n",
       "  <tbody>\n",
       "    <tr>\n",
       "      <th>0</th>\n",
       "      <td>AARON,ELVIA</td>\n",
       "      <td>WATER RATE TAKER</td>\n",
       "      <td>WATER MGMNT</td>\n",
       "      <td>1000000.0</td>\n",
       "    </tr>\n",
       "    <tr>\n",
       "      <th>1</th>\n",
       "      <td>AARON,JEFFDRY M</td>\n",
       "      <td>POLICE OFFICER</td>\n",
       "      <td>POLICE</td>\n",
       "      <td>2000000.0</td>\n",
       "    </tr>\n",
       "    <tr>\n",
       "      <th>2</th>\n",
       "      <td>AARON,KIMBELE</td>\n",
       "      <td>POLICE OFFICER</td>\n",
       "      <td>POLICE</td>\n",
       "      <td>NaN</td>\n",
       "    </tr>\n",
       "    <tr>\n",
       "      <th>3</th>\n",
       "      <td>ABAD JR,VICENTE</td>\n",
       "      <td>CHEF CONTRACT EXPEDITER</td>\n",
       "      <td>GENERAL SERVICES</td>\n",
       "      <td>6000000.0</td>\n",
       "    </tr>\n",
       "  </tbody>\n",
       "</table>\n",
       "</div>"
      ],
      "text/plain": [
       "              Name           Position Title        Department  \\\n",
       "0      AARON,ELVIA         WATER RATE TAKER       WATER MGMNT   \n",
       "1  AARON,JEFFDRY M           POLICE OFFICER           POLICE    \n",
       "2    AARON,KIMBELE           POLICE OFFICER           POLICE    \n",
       "3  ABAD JR,VICENTE  CHEF CONTRACT EXPEDITER  GENERAL SERVICES   \n",
       "\n",
       "   Employee Annual Salary  \n",
       "0               1000000.0  \n",
       "1               2000000.0  \n",
       "2                     NaN  \n",
       "3               6000000.0  "
      ]
     },
     "execution_count": 103,
     "metadata": {},
     "output_type": "execute_result"
    }
   ],
   "source": [
    "con=pd.read_csv(r\"C:\\Users\\ELCOT\\Downloads\\txt_method.csv\").dropna(how=\"all\")\n",
    "con[\"Department\"]=con[\"Department\"].astype(\"category\")\n",
    "con.head(4)"
   ]
  },
  {
   "cell_type": "code",
   "execution_count": 110,
   "id": "476ff28a",
   "metadata": {},
   "outputs": [
    {
     "data": {
      "text/plain": [
       "AARON       3\n",
       "ABAD JR     1\n",
       "ZYGOWICE    1\n",
       "Name: Name, dtype: int64"
      ]
     },
     "execution_count": 110,
     "metadata": {},
     "output_type": "execute_result"
    }
   ],
   "source": [
    "con[\"Name\"].str.split(\",\").str.get(0).value_counts().head(3)"
   ]
  },
  {
   "cell_type": "code",
   "execution_count": 120,
   "id": "442bd01a",
   "metadata": {},
   "outputs": [
    {
     "data": {
      "text/plain": [
       "ELVIA      1\n",
       "JEFFDRY    1\n",
       "KIMBELE    1\n",
       "VICENTE    1\n",
       "PETER      1\n",
       "Name: Name, dtype: int64"
      ]
     },
     "execution_count": 120,
     "metadata": {},
     "output_type": "execute_result"
    }
   ],
   "source": [
    "con[\"Name\"].str.split(\",\").str.get(1).str.strip().str.split(' ').str.get(0).value_counts().head()"
   ]
  },
  {
   "cell_type": "markdown",
   "id": "b638e16d",
   "metadata": {},
   "source": [
    "# The expand n and Parameters of the str .split() Method"
   ]
  },
  {
   "cell_type": "code",
   "execution_count": 121,
   "id": "9319912a",
   "metadata": {},
   "outputs": [
    {
     "data": {
      "text/html": [
       "<div>\n",
       "<style scoped>\n",
       "    .dataframe tbody tr th:only-of-type {\n",
       "        vertical-align: middle;\n",
       "    }\n",
       "\n",
       "    .dataframe tbody tr th {\n",
       "        vertical-align: top;\n",
       "    }\n",
       "\n",
       "    .dataframe thead th {\n",
       "        text-align: right;\n",
       "    }\n",
       "</style>\n",
       "<table border=\"1\" class=\"dataframe\">\n",
       "  <thead>\n",
       "    <tr style=\"text-align: right;\">\n",
       "      <th></th>\n",
       "      <th>Name</th>\n",
       "      <th>Position Title</th>\n",
       "      <th>Department</th>\n",
       "      <th>Employee Annual Salary</th>\n",
       "    </tr>\n",
       "  </thead>\n",
       "  <tbody>\n",
       "    <tr>\n",
       "      <th>0</th>\n",
       "      <td>AARON,ELVIA</td>\n",
       "      <td>WATER RATE TAKER</td>\n",
       "      <td>WATER MGMNT</td>\n",
       "      <td>1000000.0</td>\n",
       "    </tr>\n",
       "    <tr>\n",
       "      <th>1</th>\n",
       "      <td>AARON,JEFFDRY M</td>\n",
       "      <td>POLICE OFFICER</td>\n",
       "      <td>POLICE</td>\n",
       "      <td>2000000.0</td>\n",
       "    </tr>\n",
       "    <tr>\n",
       "      <th>2</th>\n",
       "      <td>AARON,KIMBELE</td>\n",
       "      <td>POLICE OFFICER</td>\n",
       "      <td>POLICE</td>\n",
       "      <td>NaN</td>\n",
       "    </tr>\n",
       "    <tr>\n",
       "      <th>3</th>\n",
       "      <td>ABAD JR,VICENTE</td>\n",
       "      <td>CHEF CONTRACT EXPEDITER</td>\n",
       "      <td>GENERAL SERVICES</td>\n",
       "      <td>6000000.0</td>\n",
       "    </tr>\n",
       "  </tbody>\n",
       "</table>\n",
       "</div>"
      ],
      "text/plain": [
       "              Name           Position Title        Department  \\\n",
       "0      AARON,ELVIA         WATER RATE TAKER       WATER MGMNT   \n",
       "1  AARON,JEFFDRY M           POLICE OFFICER           POLICE    \n",
       "2    AARON,KIMBELE           POLICE OFFICER           POLICE    \n",
       "3  ABAD JR,VICENTE  CHEF CONTRACT EXPEDITER  GENERAL SERVICES   \n",
       "\n",
       "   Employee Annual Salary  \n",
       "0               1000000.0  \n",
       "1               2000000.0  \n",
       "2                     NaN  \n",
       "3               6000000.0  "
      ]
     },
     "execution_count": 121,
     "metadata": {},
     "output_type": "execute_result"
    }
   ],
   "source": [
    "con=pd.read_csv(r\"C:\\Users\\ELCOT\\Downloads\\txt_method.csv\").dropna(how=\"all\")\n",
    "con[\"Department\"]=con[\"Department\"].astype(\"category\")\n",
    "con.head(4)"
   ]
  },
  {
   "cell_type": "code",
   "execution_count": 126,
   "id": "c99c034a",
   "metadata": {},
   "outputs": [
    {
     "data": {
      "text/html": [
       "<div>\n",
       "<style scoped>\n",
       "    .dataframe tbody tr th:only-of-type {\n",
       "        vertical-align: middle;\n",
       "    }\n",
       "\n",
       "    .dataframe tbody tr th {\n",
       "        vertical-align: top;\n",
       "    }\n",
       "\n",
       "    .dataframe thead th {\n",
       "        text-align: right;\n",
       "    }\n",
       "</style>\n",
       "<table border=\"1\" class=\"dataframe\">\n",
       "  <thead>\n",
       "    <tr style=\"text-align: right;\">\n",
       "      <th></th>\n",
       "      <th>0</th>\n",
       "      <th>1</th>\n",
       "    </tr>\n",
       "  </thead>\n",
       "  <tbody>\n",
       "    <tr>\n",
       "      <th>0</th>\n",
       "      <td>AARON</td>\n",
       "      <td>ELVIA</td>\n",
       "    </tr>\n",
       "    <tr>\n",
       "      <th>1</th>\n",
       "      <td>AARON</td>\n",
       "      <td>JEFFDRY M</td>\n",
       "    </tr>\n",
       "    <tr>\n",
       "      <th>2</th>\n",
       "      <td>AARON</td>\n",
       "      <td>KIMBELE</td>\n",
       "    </tr>\n",
       "    <tr>\n",
       "      <th>3</th>\n",
       "      <td>ABAD JR</td>\n",
       "      <td>VICENTE</td>\n",
       "    </tr>\n",
       "    <tr>\n",
       "      <th>4</th>\n",
       "      <td>ZYGOWICE</td>\n",
       "      <td>PETER R</td>\n",
       "    </tr>\n",
       "    <tr>\n",
       "      <th>5</th>\n",
       "      <td>ZYMANTAR</td>\n",
       "      <td>MARK E</td>\n",
       "    </tr>\n",
       "    <tr>\n",
       "      <th>6</th>\n",
       "      <td>ZYRKOWSKI</td>\n",
       "      <td>CARLD E</td>\n",
       "    </tr>\n",
       "    <tr>\n",
       "      <th>7</th>\n",
       "      <td>ZYSKOWSKI</td>\n",
       "      <td>DARLIZ</td>\n",
       "    </tr>\n",
       "  </tbody>\n",
       "</table>\n",
       "</div>"
      ],
      "text/plain": [
       "           0          1\n",
       "0      AARON      ELVIA\n",
       "1      AARON  JEFFDRY M\n",
       "2      AARON    KIMBELE\n",
       "3    ABAD JR    VICENTE\n",
       "4   ZYGOWICE    PETER R\n",
       "5   ZYMANTAR     MARK E\n",
       "6  ZYRKOWSKI    CARLD E\n",
       "7  ZYSKOWSKI     DARLIZ"
      ]
     },
     "execution_count": 126,
     "metadata": {},
     "output_type": "execute_result"
    }
   ],
   "source": [
    "con[\"Name\"].str.split(',',expand=True)"
   ]
  },
  {
   "cell_type": "code",
   "execution_count": 137,
   "id": "5875afea",
   "metadata": {},
   "outputs": [
    {
     "data": {
      "text/html": [
       "<div>\n",
       "<style scoped>\n",
       "    .dataframe tbody tr th:only-of-type {\n",
       "        vertical-align: middle;\n",
       "    }\n",
       "\n",
       "    .dataframe tbody tr th {\n",
       "        vertical-align: top;\n",
       "    }\n",
       "\n",
       "    .dataframe thead th {\n",
       "        text-align: right;\n",
       "    }\n",
       "</style>\n",
       "<table border=\"1\" class=\"dataframe\">\n",
       "  <thead>\n",
       "    <tr style=\"text-align: right;\">\n",
       "      <th></th>\n",
       "      <th>Name</th>\n",
       "      <th>Position Title</th>\n",
       "      <th>Department</th>\n",
       "      <th>Employee Annual Salary</th>\n",
       "      <th>First</th>\n",
       "      <th>Last</th>\n",
       "      <th>FirstName</th>\n",
       "      <th>LastName</th>\n",
       "    </tr>\n",
       "  </thead>\n",
       "  <tbody>\n",
       "    <tr>\n",
       "      <th>0</th>\n",
       "      <td>AARON,ELVIA</td>\n",
       "      <td>WATER RATE TAKER</td>\n",
       "      <td>WATER MGMNT</td>\n",
       "      <td>1000000.0</td>\n",
       "      <td>AARON</td>\n",
       "      <td>ELVIA</td>\n",
       "      <td>AARON</td>\n",
       "      <td>ELVIA</td>\n",
       "    </tr>\n",
       "    <tr>\n",
       "      <th>1</th>\n",
       "      <td>AARON,JEFFDRY M</td>\n",
       "      <td>POLICE OFFICER</td>\n",
       "      <td>POLICE</td>\n",
       "      <td>2000000.0</td>\n",
       "      <td>AARON</td>\n",
       "      <td>JEFFDRY M</td>\n",
       "      <td>AARON</td>\n",
       "      <td>JEFFDRY M</td>\n",
       "    </tr>\n",
       "    <tr>\n",
       "      <th>2</th>\n",
       "      <td>AARON,KIMBELE</td>\n",
       "      <td>POLICE OFFICER</td>\n",
       "      <td>POLICE</td>\n",
       "      <td>NaN</td>\n",
       "      <td>AARON</td>\n",
       "      <td>KIMBELE</td>\n",
       "      <td>AARON</td>\n",
       "      <td>KIMBELE</td>\n",
       "    </tr>\n",
       "    <tr>\n",
       "      <th>3</th>\n",
       "      <td>ABAD JR,VICENTE</td>\n",
       "      <td>CHEF CONTRACT EXPEDITER</td>\n",
       "      <td>GENERAL SERVICES</td>\n",
       "      <td>6000000.0</td>\n",
       "      <td>ABAD JR</td>\n",
       "      <td>VICENTE</td>\n",
       "      <td>ABAD JR</td>\n",
       "      <td>VICENTE</td>\n",
       "    </tr>\n",
       "    <tr>\n",
       "      <th>4</th>\n",
       "      <td>ZYGOWICE,PETER R</td>\n",
       "      <td>CIVIL ENGINEER</td>\n",
       "      <td>WATER MOMENT</td>\n",
       "      <td>5000000.0</td>\n",
       "      <td>ZYGOWICE</td>\n",
       "      <td>PETER R</td>\n",
       "      <td>ZYGOWICE</td>\n",
       "      <td>PETER R</td>\n",
       "    </tr>\n",
       "  </tbody>\n",
       "</table>\n",
       "</div>"
      ],
      "text/plain": [
       "               Name           Position Title        Department  \\\n",
       "0       AARON,ELVIA         WATER RATE TAKER       WATER MGMNT   \n",
       "1   AARON,JEFFDRY M           POLICE OFFICER           POLICE    \n",
       "2     AARON,KIMBELE           POLICE OFFICER           POLICE    \n",
       "3   ABAD JR,VICENTE  CHEF CONTRACT EXPEDITER  GENERAL SERVICES   \n",
       "4  ZYGOWICE,PETER R          CIVIL ENGINEER       WATER MOMENT   \n",
       "\n",
       "   Employee Annual Salary     First       Last FirstName   LastName  \n",
       "0               1000000.0     AARON      ELVIA     AARON      ELVIA  \n",
       "1               2000000.0     AARON  JEFFDRY M     AARON  JEFFDRY M  \n",
       "2                     NaN     AARON    KIMBELE     AARON    KIMBELE  \n",
       "3               6000000.0   ABAD JR    VICENTE   ABAD JR    VICENTE  \n",
       "4               5000000.0  ZYGOWICE    PETER R  ZYGOWICE    PETER R  "
      ]
     },
     "execution_count": 137,
     "metadata": {},
     "output_type": "execute_result"
    }
   ],
   "source": [
    "con[[\"FirstName\",\"LastName\"]] = con[\"Name\"].str.split(',',expand=True)\n",
    "con.head()    "
   ]
  },
  {
   "cell_type": "code",
   "execution_count": 140,
   "id": "1fac2777",
   "metadata": {},
   "outputs": [
    {
     "data": {
      "text/html": [
       "<div>\n",
       "<style scoped>\n",
       "    .dataframe tbody tr th:only-of-type {\n",
       "        vertical-align: middle;\n",
       "    }\n",
       "\n",
       "    .dataframe tbody tr th {\n",
       "        vertical-align: top;\n",
       "    }\n",
       "\n",
       "    .dataframe thead th {\n",
       "        text-align: right;\n",
       "    }\n",
       "</style>\n",
       "<table border=\"1\" class=\"dataframe\">\n",
       "  <thead>\n",
       "    <tr style=\"text-align: right;\">\n",
       "      <th></th>\n",
       "      <th>Name</th>\n",
       "      <th>Position Title</th>\n",
       "      <th>Department</th>\n",
       "      <th>Employee Annual Salary</th>\n",
       "      <th>First</th>\n",
       "      <th>Last</th>\n",
       "      <th>FirstName</th>\n",
       "      <th>LastName</th>\n",
       "      <th>FirstTitle</th>\n",
       "      <th>SecondTitle</th>\n",
       "    </tr>\n",
       "  </thead>\n",
       "  <tbody>\n",
       "    <tr>\n",
       "      <th>0</th>\n",
       "      <td>AARON,ELVIA</td>\n",
       "      <td>WATER RATE TAKER</td>\n",
       "      <td>WATER MGMNT</td>\n",
       "      <td>1000000.0</td>\n",
       "      <td>AARON</td>\n",
       "      <td>ELVIA</td>\n",
       "      <td>AARON</td>\n",
       "      <td>ELVIA</td>\n",
       "      <td>WATER</td>\n",
       "      <td>RATE TAKER</td>\n",
       "    </tr>\n",
       "    <tr>\n",
       "      <th>1</th>\n",
       "      <td>AARON,JEFFDRY M</td>\n",
       "      <td>POLICE OFFICER</td>\n",
       "      <td>POLICE</td>\n",
       "      <td>2000000.0</td>\n",
       "      <td>AARON</td>\n",
       "      <td>JEFFDRY M</td>\n",
       "      <td>AARON</td>\n",
       "      <td>JEFFDRY M</td>\n",
       "      <td>POLICE</td>\n",
       "      <td>OFFICER</td>\n",
       "    </tr>\n",
       "    <tr>\n",
       "      <th>2</th>\n",
       "      <td>AARON,KIMBELE</td>\n",
       "      <td>POLICE OFFICER</td>\n",
       "      <td>POLICE</td>\n",
       "      <td>NaN</td>\n",
       "      <td>AARON</td>\n",
       "      <td>KIMBELE</td>\n",
       "      <td>AARON</td>\n",
       "      <td>KIMBELE</td>\n",
       "      <td>POLICE</td>\n",
       "      <td>OFFICER</td>\n",
       "    </tr>\n",
       "    <tr>\n",
       "      <th>3</th>\n",
       "      <td>ABAD JR,VICENTE</td>\n",
       "      <td>CHEF CONTRACT EXPEDITER</td>\n",
       "      <td>GENERAL SERVICES</td>\n",
       "      <td>6000000.0</td>\n",
       "      <td>ABAD JR</td>\n",
       "      <td>VICENTE</td>\n",
       "      <td>ABAD JR</td>\n",
       "      <td>VICENTE</td>\n",
       "      <td>CHEF</td>\n",
       "      <td>CONTRACT EXPEDITER</td>\n",
       "    </tr>\n",
       "    <tr>\n",
       "      <th>4</th>\n",
       "      <td>ZYGOWICE,PETER R</td>\n",
       "      <td>CIVIL ENGINEER</td>\n",
       "      <td>WATER MOMENT</td>\n",
       "      <td>5000000.0</td>\n",
       "      <td>ZYGOWICE</td>\n",
       "      <td>PETER R</td>\n",
       "      <td>ZYGOWICE</td>\n",
       "      <td>PETER R</td>\n",
       "      <td>CIVIL</td>\n",
       "      <td>ENGINEER</td>\n",
       "    </tr>\n",
       "  </tbody>\n",
       "</table>\n",
       "</div>"
      ],
      "text/plain": [
       "               Name           Position Title        Department  \\\n",
       "0       AARON,ELVIA         WATER RATE TAKER       WATER MGMNT   \n",
       "1   AARON,JEFFDRY M           POLICE OFFICER           POLICE    \n",
       "2     AARON,KIMBELE           POLICE OFFICER           POLICE    \n",
       "3   ABAD JR,VICENTE  CHEF CONTRACT EXPEDITER  GENERAL SERVICES   \n",
       "4  ZYGOWICE,PETER R          CIVIL ENGINEER       WATER MOMENT   \n",
       "\n",
       "   Employee Annual Salary     First       Last FirstName   LastName  \\\n",
       "0               1000000.0     AARON      ELVIA     AARON      ELVIA   \n",
       "1               2000000.0     AARON  JEFFDRY M     AARON  JEFFDRY M   \n",
       "2                     NaN     AARON    KIMBELE     AARON    KIMBELE   \n",
       "3               6000000.0   ABAD JR    VICENTE   ABAD JR    VICENTE   \n",
       "4               5000000.0  ZYGOWICE    PETER R  ZYGOWICE    PETER R   \n",
       "\n",
       "  FirstTitle         SecondTitle  \n",
       "0      WATER          RATE TAKER  \n",
       "1     POLICE             OFFICER  \n",
       "2     POLICE             OFFICER  \n",
       "3       CHEF  CONTRACT EXPEDITER  \n",
       "4      CIVIL           ENGINEER   "
      ]
     },
     "execution_count": 140,
     "metadata": {},
     "output_type": "execute_result"
    }
   ],
   "source": [
    "con[[\"FirstTitle\",\"SecondTitle\"]]=con[\"Position Title\"].str.split(\" \",expand=True,n=1)\n",
    "con.head()"
   ]
  },
  {
   "cell_type": "code",
   "execution_count": null,
   "id": "a36b8bf0",
   "metadata": {},
   "outputs": [],
   "source": []
  }
 ],
 "metadata": {
  "kernelspec": {
   "display_name": "Python 3 (ipykernel)",
   "language": "python",
   "name": "python3"
  },
  "language_info": {
   "codemirror_mode": {
    "name": "ipython",
    "version": 3
   },
   "file_extension": ".py",
   "mimetype": "text/x-python",
   "name": "python",
   "nbconvert_exporter": "python",
   "pygments_lexer": "ipython3",
   "version": "3.9.7"
  }
 },
 "nbformat": 4,
 "nbformat_minor": 5
}

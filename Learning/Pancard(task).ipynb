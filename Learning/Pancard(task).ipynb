{
 "cells": [
  {
   "cell_type": "code",
   "execution_count": 1,
   "id": "ee315d9e",
   "metadata": {},
   "outputs": [
    {
     "name": "stdout",
     "output_type": "stream",
     "text": [
      "Enter the PANCARDNO:AAAAA2000A\n"
     ]
    },
    {
     "data": {
      "text/plain": [
       "True"
      ]
     },
     "execution_count": 1,
     "metadata": {},
     "output_type": "execute_result"
    }
   ],
   "source": [
    "import re\n",
    "def validcard(match):\n",
    "    reg='[A-Z]{5}[0-9]{4}[A-Z]{1}'\n",
    "    a=re.compile(reg)\n",
    "    if(re.search(a,match) and len(match)==10):\n",
    "        return True\n",
    "    else:\n",
    "        return False  \n",
    "validcard(input(\"Enter the PANCARDNO:\"))"
   ]
  },
  {
   "cell_type": "code",
   "execution_count": null,
   "id": "cc016535",
   "metadata": {},
   "outputs": [],
   "source": []
  }
 ],
 "metadata": {
  "kernelspec": {
   "display_name": "Python 3 (ipykernel)",
   "language": "python",
   "name": "python3"
  },
  "language_info": {
   "codemirror_mode": {
    "name": "ipython",
    "version": 3
   },
   "file_extension": ".py",
   "mimetype": "text/x-python",
   "name": "python",
   "nbconvert_exporter": "python",
   "pygments_lexer": "ipython3",
   "version": "3.9.7"
  }
 },
 "nbformat": 4,
 "nbformat_minor": 5
}

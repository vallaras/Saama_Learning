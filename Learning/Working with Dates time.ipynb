{
 "cells": [
  {
   "cell_type": "markdown",
   "id": "bbb1e5b5",
   "metadata": {},
   "source": [
    "# Review of python's datetime Module"
   ]
  },
  {
   "cell_type": "code",
   "execution_count": 1,
   "id": "f57dcd17",
   "metadata": {},
   "outputs": [],
   "source": [
    "import pandas as pd\n",
    "import datetime as dt"
   ]
  },
  {
   "cell_type": "code",
   "execution_count": 4,
   "id": "f2e067c8",
   "metadata": {},
   "outputs": [],
   "source": [
    "someday=dt.date(2010,1,20)"
   ]
  },
  {
   "cell_type": "code",
   "execution_count": 13,
   "id": "7a470310",
   "metadata": {},
   "outputs": [
    {
     "data": {
      "text/plain": [
       "'2010-01-20'"
      ]
     },
     "execution_count": 13,
     "metadata": {},
     "output_type": "execute_result"
    }
   ],
   "source": [
    "str(someday)"
   ]
  },
  {
   "cell_type": "code",
   "execution_count": 7,
   "id": "cb9372f4",
   "metadata": {},
   "outputs": [
    {
     "data": {
      "text/plain": [
       "20"
      ]
     },
     "execution_count": 7,
     "metadata": {},
     "output_type": "execute_result"
    }
   ],
   "source": [
    "someday.year\n",
    "someday.month\n",
    "someday.day"
   ]
  },
  {
   "cell_type": "code",
   "execution_count": 12,
   "id": "7b081be8",
   "metadata": {},
   "outputs": [
    {
     "data": {
      "text/plain": [
       "'2010-03-30 08:30:57'"
      ]
     },
     "execution_count": 12,
     "metadata": {},
     "output_type": "execute_result"
    }
   ],
   "source": [
    "str(dt.datetime(2010,3,30,8,30,57))"
   ]
  },
  {
   "cell_type": "code",
   "execution_count": 14,
   "id": "d1fca66e",
   "metadata": {},
   "outputs": [],
   "source": [
    "sometime=dt.datetime(2010,3,30,8,30,57)"
   ]
  },
  {
   "cell_type": "code",
   "execution_count": 17,
   "id": "f546eb7a",
   "metadata": {},
   "outputs": [
    {
     "data": {
      "text/plain": [
       "57"
      ]
     },
     "execution_count": 17,
     "metadata": {},
     "output_type": "execute_result"
    }
   ],
   "source": [
    "sometime.year\n",
    "sometime.month\n",
    "sometime.day\n",
    "sometime.minute\n",
    "sometime.second"
   ]
  },
  {
   "cell_type": "code",
   "execution_count": 11,
   "id": "8935fa51",
   "metadata": {},
   "outputs": [
    {
     "data": {
      "text/plain": [
       "2"
      ]
     },
     "execution_count": 11,
     "metadata": {},
     "output_type": "execute_result"
    }
   ],
   "source": [
    "some=dt.date(2010,1,2)\n",
    "some.day"
   ]
  },
  {
   "cell_type": "markdown",
   "id": "7cf718bb",
   "metadata": {},
   "source": [
    "# The Pandas Timestamp Object"
   ]
  },
  {
   "cell_type": "code",
   "execution_count": 15,
   "id": "45ec8d58",
   "metadata": {},
   "outputs": [
    {
     "data": {
      "text/plain": [
       "Timestamp('2015-03-31 00:00:00')"
      ]
     },
     "execution_count": 15,
     "metadata": {},
     "output_type": "execute_result"
    }
   ],
   "source": [
    "pd.Timestamp(\"2015-03-31\")\n",
    "pd.Timestamp(\"2015/03/31\")\n",
    "pd.Timestamp(\"2015-03-31\")\n",
    "pd.Timestamp(\"31-03-2015\")"
   ]
  },
  {
   "cell_type": "code",
   "execution_count": 16,
   "id": "431ef8fc",
   "metadata": {},
   "outputs": [
    {
     "data": {
      "text/plain": [
       "Timestamp('2015-03-31 18:15:30')"
      ]
     },
     "execution_count": 16,
     "metadata": {},
     "output_type": "execute_result"
    }
   ],
   "source": [
    "pd.Timestamp(\"2015-03-31 6:15:30 PM\")\n"
   ]
  },
  {
   "cell_type": "code",
   "execution_count": 18,
   "id": "0f8aacc7",
   "metadata": {},
   "outputs": [
    {
     "data": {
      "text/plain": [
       "Timestamp('2000-06-14 05:15:12')"
      ]
     },
     "execution_count": 18,
     "metadata": {},
     "output_type": "execute_result"
    }
   ],
   "source": [
    "pd.Timestamp(pd.Timestamp(2000,6,14,5,15,12))\n"
   ]
  },
  {
   "cell_type": "markdown",
   "id": "77be6c29",
   "metadata": {},
   "source": [
    "# The Pandas DateTimeIndex Object"
   ]
  },
  {
   "cell_type": "code",
   "execution_count": 19,
   "id": "e8dc277b",
   "metadata": {},
   "outputs": [
    {
     "data": {
      "text/plain": [
       "DatetimeIndex(['2010-02-12', '2011-03-22', '2013-04-03'], dtype='datetime64[ns]', freq=None)"
      ]
     },
     "execution_count": 19,
     "metadata": {},
     "output_type": "execute_result"
    }
   ],
   "source": [
    "dates=[\"2010/02/12\",\"2011/03/22\",\"2013/04/03\"]\n",
    "pd.DatetimeIndex(dates)"
   ]
  },
  {
   "cell_type": "code",
   "execution_count": 24,
   "id": "a8f42102",
   "metadata": {},
   "outputs": [
    {
     "data": {
      "text/plain": [
       "DatetimeIndex(['2010-02-14', '2013-07-20', '2017-05-16'], dtype='datetime64[ns]', freq=None)"
      ]
     },
     "execution_count": 24,
     "metadata": {},
     "output_type": "execute_result"
    }
   ],
   "source": [
    "dates=[dt.date(2010,2,14),dt.date(2013,7,20),dt.date(2017,5,16)]\n",
    "pd.DatetimeIndex(dates)"
   ]
  },
  {
   "cell_type": "markdown",
   "id": "0a64a31c",
   "metadata": {},
   "source": [
    "# The pd.to_datetime() Method"
   ]
  },
  {
   "cell_type": "code",
   "execution_count": 29,
   "id": "0d969b2b",
   "metadata": {},
   "outputs": [
    {
     "data": {
      "text/plain": [
       "DatetimeIndex(['2015-03-12', '2016-04-17', '2000-01-01', '2000-06-14'], dtype='datetime64[ns]', freq=None)"
      ]
     },
     "execution_count": 29,
     "metadata": {},
     "output_type": "execute_result"
    }
   ],
   "source": [
    "pd.to_datetime(\"2016/3/14\")\n",
    "pd.to_datetime(dt.date(2018,3,17))\n",
    "pd.to_datetime(dt.datetime(2018,3,17,2,55,43))\n",
    "pd.to_datetime([\"2015-03-12\",\"2016-04-17\",\"2000\",\"jun14/2000\"])"
   ]
  },
  {
   "cell_type": "code",
   "execution_count": 33,
   "id": "ca9bebcd",
   "metadata": {},
   "outputs": [
    {
     "data": {
      "text/plain": [
       "0    2015-03-12\n",
       "1    2016-04-17\n",
       "2          2000\n",
       "3    jun14/2000\n",
       "dtype: object"
      ]
     },
     "execution_count": 33,
     "metadata": {},
     "output_type": "execute_result"
    }
   ],
   "source": [
    "times=pd.Series([\"2015-03-12\",\"2016-04-17\",\"2000\",\"jun14/2000\"])\n",
    "times"
   ]
  },
  {
   "cell_type": "code",
   "execution_count": 34,
   "id": "2bad6b16",
   "metadata": {},
   "outputs": [
    {
     "data": {
      "text/plain": [
       "0   2015-03-12\n",
       "1   2016-04-17\n",
       "2   2000-01-01\n",
       "3   2000-06-14\n",
       "dtype: datetime64[ns]"
      ]
     },
     "execution_count": 34,
     "metadata": {},
     "output_type": "execute_result"
    }
   ],
   "source": [
    "pd.to_datetime(times)"
   ]
  },
  {
   "cell_type": "code",
   "execution_count": 36,
   "id": "a0ef34f0",
   "metadata": {},
   "outputs": [],
   "source": [
    "ti=pd.Series([\"2015-03-12\",\"2016-04-17\",\"2000\",\"Hello\",\"jun14/2000\"])"
   ]
  },
  {
   "cell_type": "code",
   "execution_count": 42,
   "id": "25cbe719",
   "metadata": {},
   "outputs": [
    {
     "data": {
      "text/plain": [
       "0   2015-03-12\n",
       "1   2016-04-17\n",
       "2   2000-01-01\n",
       "3          NaT\n",
       "4   2000-06-14\n",
       "dtype: datetime64[ns]"
      ]
     },
     "execution_count": 42,
     "metadata": {},
     "output_type": "execute_result"
    }
   ],
   "source": [
    "pd.to_datetime(ti,errors=\"coerce\")"
   ]
  },
  {
   "cell_type": "code",
   "execution_count": 45,
   "id": "8e0aa79f",
   "metadata": {},
   "outputs": [
    {
     "data": {
      "text/plain": [
       "DatetimeIndex(['2149-12-16 12:15:45', '2247-10-07 18:15:27'], dtype='datetime64[ns]', freq=None)"
      ]
     },
     "execution_count": 45,
     "metadata": {},
     "output_type": "execute_result"
    }
   ],
   "source": [
    "pd.to_datetime([5678943345,8765432127],unit=\"s\")"
   ]
  },
  {
   "cell_type": "markdown",
   "id": "7a101e63",
   "metadata": {},
   "source": [
    "# Create Range of Dates with the pd.range() Method,part1"
   ]
  },
  {
   "cell_type": "code",
   "execution_count": 51,
   "id": "4aa462b7",
   "metadata": {},
   "outputs": [
    {
     "data": {
      "text/plain": [
       "DatetimeIndex(['2016-01-01', '2016-01-02', '2016-01-03', '2016-01-04',\n",
       "               '2016-01-05', '2016-01-06', '2016-01-07', '2016-01-08',\n",
       "               '2016-01-09', '2016-01-10',\n",
       "               ...\n",
       "               '2016-09-22', '2016-09-23', '2016-09-24', '2016-09-25',\n",
       "               '2016-09-26', '2016-09-27', '2016-09-28', '2016-09-29',\n",
       "               '2016-09-30', '2016-10-01'],\n",
       "              dtype='datetime64[ns]', length=275, freq='D')"
      ]
     },
     "execution_count": 51,
     "metadata": {},
     "output_type": "execute_result"
    }
   ],
   "source": [
    "times=pd.date_range(start=\"2016-01-01\",end=\"2016-10-01\",freq=\"D\")\n",
    "times"
   ]
  },
  {
   "cell_type": "code",
   "execution_count": 48,
   "id": "9a4f89fc",
   "metadata": {},
   "outputs": [
    {
     "data": {
      "text/plain": [
       "pandas.core.indexes.datetimes.DatetimeIndex"
      ]
     },
     "execution_count": 48,
     "metadata": {},
     "output_type": "execute_result"
    }
   ],
   "source": [
    "type(times)"
   ]
  },
  {
   "cell_type": "code",
   "execution_count": 49,
   "id": "c32122db",
   "metadata": {},
   "outputs": [
    {
     "data": {
      "text/plain": [
       "Timestamp('2016-01-01 00:00:00', freq='D')"
      ]
     },
     "execution_count": 49,
     "metadata": {},
     "output_type": "execute_result"
    }
   ],
   "source": [
    "times[0]"
   ]
  },
  {
   "cell_type": "code",
   "execution_count": 50,
   "id": "15e9315b",
   "metadata": {},
   "outputs": [
    {
     "data": {
      "text/plain": [
       "DatetimeIndex(['2016-01-01', '2016-01-02', '2016-01-03', '2016-01-04',\n",
       "               '2016-01-05', '2016-01-06', '2016-01-07', '2016-01-08',\n",
       "               '2016-01-09', '2016-01-10',\n",
       "               ...\n",
       "               '2016-09-22', '2016-09-23', '2016-09-24', '2016-09-25',\n",
       "               '2016-09-26', '2016-09-27', '2016-09-28', '2016-09-29',\n",
       "               '2016-09-30', '2016-10-01'],\n",
       "              dtype='datetime64[ns]', length=275, freq='D')"
      ]
     },
     "execution_count": 50,
     "metadata": {},
     "output_type": "execute_result"
    }
   ],
   "source": [
    "pd.date_range(start=\"2016-01-01\",end=\"2016-10-01\",freq=\"1D\")"
   ]
  },
  {
   "cell_type": "code",
   "execution_count": 52,
   "id": "a2242b5e",
   "metadata": {},
   "outputs": [
    {
     "data": {
      "text/plain": [
       "DatetimeIndex(['2016-01-01', '2016-01-03', '2016-01-05', '2016-01-07',\n",
       "               '2016-01-09', '2016-01-11', '2016-01-13', '2016-01-15',\n",
       "               '2016-01-17', '2016-01-19',\n",
       "               ...\n",
       "               '2016-09-13', '2016-09-15', '2016-09-17', '2016-09-19',\n",
       "               '2016-09-21', '2016-09-23', '2016-09-25', '2016-09-27',\n",
       "               '2016-09-29', '2016-10-01'],\n",
       "              dtype='datetime64[ns]', length=138, freq='2D')"
      ]
     },
     "execution_count": 52,
     "metadata": {},
     "output_type": "execute_result"
    }
   ],
   "source": [
    "pd.date_range(start=\"2016-01-01\",end=\"2016-10-01\",freq=\"2D\")"
   ]
  },
  {
   "cell_type": "code",
   "execution_count": 54,
   "id": "fd7ba2c6",
   "metadata": {},
   "outputs": [
    {
     "data": {
      "text/plain": [
       "DatetimeIndex(['2016-01-01', '2016-01-08', '2016-01-15', '2016-01-22',\n",
       "               '2016-01-29', '2016-02-05', '2016-02-12', '2016-02-19',\n",
       "               '2016-02-26', '2016-03-04', '2016-03-11', '2016-03-18',\n",
       "               '2016-03-25', '2016-04-01', '2016-04-08', '2016-04-15',\n",
       "               '2016-04-22', '2016-04-29', '2016-05-06', '2016-05-13',\n",
       "               '2016-05-20', '2016-05-27', '2016-06-03', '2016-06-10',\n",
       "               '2016-06-17', '2016-06-24', '2016-07-01', '2016-07-08',\n",
       "               '2016-07-15', '2016-07-22', '2016-07-29', '2016-08-05',\n",
       "               '2016-08-12', '2016-08-19', '2016-08-26', '2016-09-02',\n",
       "               '2016-09-09', '2016-09-16', '2016-09-23', '2016-09-30'],\n",
       "              dtype='datetime64[ns]', freq='W-FRI')"
      ]
     },
     "execution_count": 54,
     "metadata": {},
     "output_type": "execute_result"
    }
   ],
   "source": [
    "pd.date_range(start=\"2016-01-01\",end=\"2016-10-01\",freq=\"W-FRI\")"
   ]
  },
  {
   "cell_type": "code",
   "execution_count": 56,
   "id": "88665bc1",
   "metadata": {},
   "outputs": [
    {
     "data": {
      "text/plain": [
       "DatetimeIndex(['2016-01-01 00:00:00', '2016-01-01 06:00:00',\n",
       "               '2016-01-01 12:00:00', '2016-01-01 18:00:00',\n",
       "               '2016-01-02 00:00:00', '2016-01-02 06:00:00',\n",
       "               '2016-01-02 12:00:00', '2016-01-02 18:00:00',\n",
       "               '2016-01-03 00:00:00', '2016-01-03 06:00:00',\n",
       "               ...\n",
       "               '2016-09-28 18:00:00', '2016-09-29 00:00:00',\n",
       "               '2016-09-29 06:00:00', '2016-09-29 12:00:00',\n",
       "               '2016-09-29 18:00:00', '2016-09-30 00:00:00',\n",
       "               '2016-09-30 06:00:00', '2016-09-30 12:00:00',\n",
       "               '2016-09-30 18:00:00', '2016-10-01 00:00:00'],\n",
       "              dtype='datetime64[ns]', length=1097, freq='6H')"
      ]
     },
     "execution_count": 56,
     "metadata": {},
     "output_type": "execute_result"
    }
   ],
   "source": [
    "pd.date_range(start=\"2016-01-01\",end=\"2016-10-01\",freq=\"6H\")"
   ]
  },
  {
   "cell_type": "markdown",
   "id": "d991f1bd",
   "metadata": {},
   "source": [
    "# Create Range of Dates with the pd.date_range() Method,part2"
   ]
  },
  {
   "cell_type": "code",
   "execution_count": 60,
   "id": "226e60b7",
   "metadata": {},
   "outputs": [
    {
     "data": {
      "text/plain": [
       "DatetimeIndex(['2019-01-22', '2019-01-23', '2019-01-24', '2019-01-25',\n",
       "               '2019-01-26', '2019-01-27', '2019-01-28', '2019-01-29',\n",
       "               '2019-01-30', '2019-01-31', '2019-02-01', '2019-02-02',\n",
       "               '2019-02-03', '2019-02-04', '2019-02-05', '2019-02-06',\n",
       "               '2019-02-07', '2019-02-08', '2019-02-09', '2019-02-10',\n",
       "               '2019-02-11', '2019-02-12', '2019-02-13', '2019-02-14',\n",
       "               '2019-02-15'],\n",
       "              dtype='datetime64[ns]', freq='D')"
      ]
     },
     "execution_count": 60,
     "metadata": {},
     "output_type": "execute_result"
    }
   ],
   "source": [
    "pd.date_range(start=\"2019-01-22\",periods=25,freq=\"D\")"
   ]
  },
  {
   "cell_type": "code",
   "execution_count": 61,
   "id": "ef6c12b2",
   "metadata": {},
   "outputs": [
    {
     "data": {
      "text/plain": [
       "25"
      ]
     },
     "execution_count": 61,
     "metadata": {},
     "output_type": "execute_result"
    }
   ],
   "source": [
    "len(pd.date_range(start=\"2019-01-22\",periods=25,freq=\"D\"))"
   ]
  },
  {
   "cell_type": "code",
   "execution_count": 64,
   "id": "9e3679b3",
   "metadata": {},
   "outputs": [
    {
     "data": {
      "text/plain": [
       "DatetimeIndex(['2022-01-23', '2022-01-30', '2022-02-06', '2022-02-13',\n",
       "               '2022-02-20', '2022-02-27', '2022-03-06', '2022-03-13',\n",
       "               '2022-03-20', '2022-03-27', '2022-04-03', '2022-04-10',\n",
       "               '2022-04-17', '2022-04-24', '2022-05-01', '2022-05-08',\n",
       "               '2022-05-15', '2022-05-22', '2022-05-29', '2022-06-05',\n",
       "               '2022-06-12', '2022-06-19', '2022-06-26', '2022-07-03',\n",
       "               '2022-07-10', '2022-07-17', '2022-07-24', '2022-07-31',\n",
       "               '2022-08-07', '2022-08-14', '2022-08-21', '2022-08-28',\n",
       "               '2022-09-04', '2022-09-11', '2022-09-18', '2022-09-25',\n",
       "               '2022-10-02', '2022-10-09', '2022-10-16', '2022-10-23',\n",
       "               '2022-10-30', '2022-11-06', '2022-11-13', '2022-11-20',\n",
       "               '2022-11-27', '2022-12-04', '2022-12-11', '2022-12-18',\n",
       "               '2022-12-25', '2023-01-01'],\n",
       "              dtype='datetime64[ns]', freq='W-SUN')"
      ]
     },
     "execution_count": 64,
     "metadata": {},
     "output_type": "execute_result"
    }
   ],
   "source": [
    "pd.date_range(start=\"2022-01-22\",periods=50,freq=\"W-SUN\")"
   ]
  },
  {
   "cell_type": "code",
   "execution_count": 65,
   "id": "aa85deff",
   "metadata": {},
   "outputs": [
    {
     "data": {
      "text/plain": [
       "DatetimeIndex(['2022-02-01', '2022-03-01', '2022-04-01', '2022-05-01',\n",
       "               '2022-06-01', '2022-07-01', '2022-08-01', '2022-09-01',\n",
       "               '2022-10-01', '2022-11-01', '2022-12-01', '2023-01-01',\n",
       "               '2023-02-01', '2023-03-01', '2023-04-01', '2023-05-01',\n",
       "               '2023-06-01', '2023-07-01', '2023-08-01', '2023-09-01',\n",
       "               '2023-10-01', '2023-11-01', '2023-12-01', '2024-01-01',\n",
       "               '2024-02-01', '2024-03-01', '2024-04-01', '2024-05-01',\n",
       "               '2024-06-01', '2024-07-01', '2024-08-01', '2024-09-01',\n",
       "               '2024-10-01', '2024-11-01', '2024-12-01', '2025-01-01',\n",
       "               '2025-02-01', '2025-03-01', '2025-04-01', '2025-05-01',\n",
       "               '2025-06-01', '2025-07-01', '2025-08-01', '2025-09-01',\n",
       "               '2025-10-01', '2025-11-01', '2025-12-01', '2026-01-01',\n",
       "               '2026-02-01', '2026-03-01'],\n",
       "              dtype='datetime64[ns]', freq='MS')"
      ]
     },
     "execution_count": 65,
     "metadata": {},
     "output_type": "execute_result"
    }
   ],
   "source": [
    "pd.date_range(start=\"2022-01-22\",periods=50,freq=\"MS\")"
   ]
  },
  {
   "cell_type": "code",
   "execution_count": 66,
   "id": "434e9241",
   "metadata": {},
   "outputs": [
    {
     "data": {
      "text/plain": [
       "DatetimeIndex(['2022-01-22 00:00:00', '2022-01-22 01:00:00',\n",
       "               '2022-01-22 02:00:00', '2022-01-22 03:00:00',\n",
       "               '2022-01-22 04:00:00', '2022-01-22 05:00:00',\n",
       "               '2022-01-22 06:00:00', '2022-01-22 07:00:00',\n",
       "               '2022-01-22 08:00:00', '2022-01-22 09:00:00',\n",
       "               '2022-01-22 10:00:00', '2022-01-22 11:00:00',\n",
       "               '2022-01-22 12:00:00', '2022-01-22 13:00:00',\n",
       "               '2022-01-22 14:00:00', '2022-01-22 15:00:00',\n",
       "               '2022-01-22 16:00:00', '2022-01-22 17:00:00',\n",
       "               '2022-01-22 18:00:00', '2022-01-22 19:00:00',\n",
       "               '2022-01-22 20:00:00', '2022-01-22 21:00:00',\n",
       "               '2022-01-22 22:00:00', '2022-01-22 23:00:00',\n",
       "               '2022-01-23 00:00:00', '2022-01-23 01:00:00',\n",
       "               '2022-01-23 02:00:00', '2022-01-23 03:00:00',\n",
       "               '2022-01-23 04:00:00', '2022-01-23 05:00:00',\n",
       "               '2022-01-23 06:00:00', '2022-01-23 07:00:00',\n",
       "               '2022-01-23 08:00:00', '2022-01-23 09:00:00',\n",
       "               '2022-01-23 10:00:00', '2022-01-23 11:00:00',\n",
       "               '2022-01-23 12:00:00', '2022-01-23 13:00:00',\n",
       "               '2022-01-23 14:00:00', '2022-01-23 15:00:00',\n",
       "               '2022-01-23 16:00:00', '2022-01-23 17:00:00',\n",
       "               '2022-01-23 18:00:00', '2022-01-23 19:00:00',\n",
       "               '2022-01-23 20:00:00', '2022-01-23 21:00:00',\n",
       "               '2022-01-23 22:00:00', '2022-01-23 23:00:00',\n",
       "               '2022-01-24 00:00:00', '2022-01-24 01:00:00'],\n",
       "              dtype='datetime64[ns]', freq='H')"
      ]
     },
     "execution_count": 66,
     "metadata": {},
     "output_type": "execute_result"
    }
   ],
   "source": [
    "pd.date_range(start=\"2022-01-22\",periods=50,freq=\"H\")"
   ]
  },
  {
   "cell_type": "markdown",
   "id": "38603c4f",
   "metadata": {},
   "source": [
    "# Create Range of Dates With The pd.date_range() Method,part3"
   ]
  },
  {
   "cell_type": "code",
   "execution_count": 4,
   "id": "b4f2188c",
   "metadata": {},
   "outputs": [
    {
     "data": {
      "text/plain": [
       "DatetimeIndex(['1999-02-28', '1999-03-07', '1999-03-14', '1999-03-21',\n",
       "               '1999-03-28', '1999-04-04', '1999-04-11', '1999-04-18',\n",
       "               '1999-04-25', '1999-05-02', '1999-05-09', '1999-05-16',\n",
       "               '1999-05-23', '1999-05-30', '1999-06-06', '1999-06-13',\n",
       "               '1999-06-20', '1999-06-27', '1999-07-04', '1999-07-11',\n",
       "               '1999-07-18', '1999-07-25', '1999-08-01', '1999-08-08',\n",
       "               '1999-08-15', '1999-08-22', '1999-08-29', '1999-09-05',\n",
       "               '1999-09-12', '1999-09-19', '1999-09-26', '1999-10-03',\n",
       "               '1999-10-10', '1999-10-17', '1999-10-24', '1999-10-31',\n",
       "               '1999-11-07', '1999-11-14', '1999-11-21', '1999-11-28'],\n",
       "              dtype='datetime64[ns]', freq='W-SUN')"
      ]
     },
     "execution_count": 4,
     "metadata": {},
     "output_type": "execute_result"
    }
   ],
   "source": [
    "pd.date_range(end=\"1999-12-03\",periods=40,freq=\"W-SUN\")"
   ]
  },
  {
   "cell_type": "markdown",
   "id": "5a809180",
   "metadata": {},
   "source": [
    "# The .dt accessor"
   ]
  },
  {
   "cell_type": "code",
   "execution_count": 2,
   "id": "6c9c1c3b",
   "metadata": {},
   "outputs": [],
   "source": [
    "table=pd.date_range(start=\"2000-6-14\",end=\"2022-2-22\",freq=\"24D\")"
   ]
  },
  {
   "cell_type": "code",
   "execution_count": 3,
   "id": "f0f4fbde",
   "metadata": {},
   "outputs": [],
   "source": [
    "s=pd.Series(table)"
   ]
  },
  {
   "cell_type": "code",
   "execution_count": 7,
   "id": "6b36e903",
   "metadata": {},
   "outputs": [
    {
     "ename": "AttributeError",
     "evalue": "'DatetimeProperties' object has no attribute 'weekday_name'",
     "output_type": "error",
     "traceback": [
      "\u001b[1;31m---------------------------------------------------------------------------\u001b[0m",
      "\u001b[1;31mAttributeError\u001b[0m                            Traceback (most recent call last)",
      "\u001b[1;32m~\\AppData\\Local\\Temp/ipykernel_38544/2858339276.py\u001b[0m in \u001b[0;36m<module>\u001b[1;34m\u001b[0m\n\u001b[1;32m----> 1\u001b[1;33m \u001b[0ms\u001b[0m\u001b[1;33m.\u001b[0m\u001b[0mdt\u001b[0m\u001b[1;33m.\u001b[0m\u001b[0mweekday_name\u001b[0m\u001b[1;33m\u001b[0m\u001b[1;33m\u001b[0m\u001b[0m\n\u001b[0m",
      "\u001b[1;31mAttributeError\u001b[0m: 'DatetimeProperties' object has no attribute 'weekday_name'"
     ]
    }
   ],
   "source": [
    "s.dt.is_quarterddf"
   ]
  },
  {
   "cell_type": "code",
   "execution_count": null,
   "id": "551ba0fb",
   "metadata": {},
   "outputs": [],
   "source": []
  }
 ],
 "metadata": {
  "kernelspec": {
   "display_name": "Python 3 (ipykernel)",
   "language": "python",
   "name": "python3"
  },
  "language_info": {
   "codemirror_mode": {
    "name": "ipython",
    "version": 3
   },
   "file_extension": ".py",
   "mimetype": "text/x-python",
   "name": "python",
   "nbconvert_exporter": "python",
   "pygments_lexer": "ipython3",
   "version": "3.9.7"
  }
 },
 "nbformat": 4,
 "nbformat_minor": 5
}

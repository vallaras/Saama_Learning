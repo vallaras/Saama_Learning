{
 "cells": [
  {
   "cell_type": "code",
   "execution_count": 1,
   "id": "f55ba4a4",
   "metadata": {},
   "outputs": [],
   "source": [
    "import pandas as pd\n",
    "import re\n",
    "import altair as alt\n",
    "from vega_datasets import data"
   ]
  },
  {
   "cell_type": "code",
   "execution_count": 2,
   "id": "e1c8ebce",
   "metadata": {},
   "outputs": [],
   "source": [
    "df = pd.read_csv(\"laptops.csv\",encoding=('ISO-8859-1'))"
   ]
  },
  {
   "cell_type": "code",
   "execution_count": 3,
   "id": "e197a21c",
   "metadata": {},
   "outputs": [],
   "source": [
    "#df[[\"Company\",\"ScreenResolution\"]]"
   ]
  },
  {
   "cell_type": "code",
   "execution_count": 4,
   "id": "c0259732",
   "metadata": {},
   "outputs": [],
   "source": [
    "mask = df[\"ScreenResolution\"].isin([\"IPS Panel Retina Display 2560x1600\",\"IPS Panel Retina Display 2880x1800\",\n",
    "                                    \"Full HD 1920x1080\",\"1366x768\",\"IPS Panel Full HD / Touchscreen 1920x108\",\n",
    "                                   \"IPS Panel Quad HD+ / Touchscreen 3200x1800\"])"
   ]
  },
  {
   "cell_type": "code",
   "execution_count": 5,
   "id": "3821becb",
   "metadata": {},
   "outputs": [],
   "source": [
    "r_str = df[mask]"
   ]
  },
  {
   "cell_type": "code",
   "execution_count": 6,
   "id": "c9fcb2d3",
   "metadata": {},
   "outputs": [
    {
     "data": {
      "text/html": [
       "<div>\n",
       "<style scoped>\n",
       "    .dataframe tbody tr th:only-of-type {\n",
       "        vertical-align: middle;\n",
       "    }\n",
       "\n",
       "    .dataframe tbody tr th {\n",
       "        vertical-align: top;\n",
       "    }\n",
       "\n",
       "    .dataframe thead th {\n",
       "        text-align: right;\n",
       "    }\n",
       "</style>\n",
       "<table border=\"1\" class=\"dataframe\">\n",
       "  <thead>\n",
       "    <tr style=\"text-align: right;\">\n",
       "      <th></th>\n",
       "      <th>Unnamed: 0</th>\n",
       "      <th>Company</th>\n",
       "      <th>Product</th>\n",
       "      <th>TypeName</th>\n",
       "      <th>Inches</th>\n",
       "      <th>ScreenResolution</th>\n",
       "      <th>Cpu</th>\n",
       "      <th>Ram</th>\n",
       "      <th>Memory</th>\n",
       "      <th>Gpu</th>\n",
       "      <th>OpSys</th>\n",
       "      <th>Weight</th>\n",
       "      <th>Price_euros</th>\n",
       "    </tr>\n",
       "  </thead>\n",
       "  <tbody>\n",
       "    <tr>\n",
       "      <th>0</th>\n",
       "      <td>1</td>\n",
       "      <td>Apple</td>\n",
       "      <td>MacBook Pro</td>\n",
       "      <td>Ultrabook</td>\n",
       "      <td>13.3</td>\n",
       "      <td>IPS Panel Retina Display 2560x1600</td>\n",
       "      <td>Intel Core i5 2.3GHz</td>\n",
       "      <td>8GB</td>\n",
       "      <td>128GB SSD</td>\n",
       "      <td>Intel Iris Plus Graphics 640</td>\n",
       "      <td>macOS</td>\n",
       "      <td>1.37kg</td>\n",
       "      <td>1339.69</td>\n",
       "    </tr>\n",
       "    <tr>\n",
       "      <th>2</th>\n",
       "      <td>3</td>\n",
       "      <td>HP</td>\n",
       "      <td>250 G6</td>\n",
       "      <td>Notebook</td>\n",
       "      <td>15.6</td>\n",
       "      <td>Full HD 1920x1080</td>\n",
       "      <td>Intel Core i5 7200U 2.5GHz</td>\n",
       "      <td>8GB</td>\n",
       "      <td>256GB SSD</td>\n",
       "      <td>Intel HD Graphics 620</td>\n",
       "      <td>No OS</td>\n",
       "      <td>1.86kg</td>\n",
       "      <td>575.00</td>\n",
       "    </tr>\n",
       "    <tr>\n",
       "      <th>3</th>\n",
       "      <td>4</td>\n",
       "      <td>Apple</td>\n",
       "      <td>MacBook Pro</td>\n",
       "      <td>Ultrabook</td>\n",
       "      <td>15.4</td>\n",
       "      <td>IPS Panel Retina Display 2880x1800</td>\n",
       "      <td>Intel Core i7 2.7GHz</td>\n",
       "      <td>16GB</td>\n",
       "      <td>512GB SSD</td>\n",
       "      <td>AMD Radeon Pro 455</td>\n",
       "      <td>macOS</td>\n",
       "      <td>1.83kg</td>\n",
       "      <td>2537.45</td>\n",
       "    </tr>\n",
       "    <tr>\n",
       "      <th>4</th>\n",
       "      <td>5</td>\n",
       "      <td>Apple</td>\n",
       "      <td>MacBook Pro</td>\n",
       "      <td>Ultrabook</td>\n",
       "      <td>13.3</td>\n",
       "      <td>IPS Panel Retina Display 2560x1600</td>\n",
       "      <td>Intel Core i5 3.1GHz</td>\n",
       "      <td>8GB</td>\n",
       "      <td>256GB SSD</td>\n",
       "      <td>Intel Iris Plus Graphics 650</td>\n",
       "      <td>macOS</td>\n",
       "      <td>1.37kg</td>\n",
       "      <td>1803.60</td>\n",
       "    </tr>\n",
       "    <tr>\n",
       "      <th>5</th>\n",
       "      <td>6</td>\n",
       "      <td>Acer</td>\n",
       "      <td>Aspire 3</td>\n",
       "      <td>Notebook</td>\n",
       "      <td>15.6</td>\n",
       "      <td>1366x768</td>\n",
       "      <td>AMD A9-Series 9420 3GHz</td>\n",
       "      <td>4GB</td>\n",
       "      <td>500GB HDD</td>\n",
       "      <td>AMD Radeon R5</td>\n",
       "      <td>Windows 10</td>\n",
       "      <td>2.1kg</td>\n",
       "      <td>400.00</td>\n",
       "    </tr>\n",
       "  </tbody>\n",
       "</table>\n",
       "</div>"
      ],
      "text/plain": [
       "   Unnamed: 0 Company      Product   TypeName  Inches  \\\n",
       "0           1   Apple  MacBook Pro  Ultrabook    13.3   \n",
       "2           3      HP       250 G6   Notebook    15.6   \n",
       "3           4   Apple  MacBook Pro  Ultrabook    15.4   \n",
       "4           5   Apple  MacBook Pro  Ultrabook    13.3   \n",
       "5           6    Acer     Aspire 3   Notebook    15.6   \n",
       "\n",
       "                     ScreenResolution                         Cpu   Ram  \\\n",
       "0  IPS Panel Retina Display 2560x1600        Intel Core i5 2.3GHz   8GB   \n",
       "2                   Full HD 1920x1080  Intel Core i5 7200U 2.5GHz   8GB   \n",
       "3  IPS Panel Retina Display 2880x1800        Intel Core i7 2.7GHz  16GB   \n",
       "4  IPS Panel Retina Display 2560x1600        Intel Core i5 3.1GHz   8GB   \n",
       "5                            1366x768     AMD A9-Series 9420 3GHz   4GB   \n",
       "\n",
       "      Memory                           Gpu       OpSys  Weight  Price_euros  \n",
       "0  128GB SSD  Intel Iris Plus Graphics 640       macOS  1.37kg      1339.69  \n",
       "2  256GB SSD         Intel HD Graphics 620       No OS  1.86kg       575.00  \n",
       "3  512GB SSD            AMD Radeon Pro 455       macOS  1.83kg      2537.45  \n",
       "4  256GB SSD  Intel Iris Plus Graphics 650       macOS  1.37kg      1803.60  \n",
       "5  500GB HDD                 AMD Radeon R5  Windows 10   2.1kg       400.00  "
      ]
     },
     "execution_count": 6,
     "metadata": {},
     "output_type": "execute_result"
    }
   ],
   "source": [
    "r_str.head()"
   ]
  },
  {
   "cell_type": "code",
   "execution_count": 7,
   "id": "c21feea2",
   "metadata": {},
   "outputs": [],
   "source": [
    "#Acer"
   ]
  },
  {
   "cell_type": "code",
   "execution_count": 8,
   "id": "17f9287a",
   "metadata": {},
   "outputs": [],
   "source": [
    "ace = r_str[\"Company\"].isin([\"Acer\"])"
   ]
  },
  {
   "cell_type": "code",
   "execution_count": 9,
   "id": "5e1d119e",
   "metadata": {
    "scrolled": true
   },
   "outputs": [],
   "source": [
    "acer = r_str[ace]"
   ]
  },
  {
   "cell_type": "code",
   "execution_count": 10,
   "id": "80080884",
   "metadata": {},
   "outputs": [
    {
     "name": "stderr",
     "output_type": "stream",
     "text": [
      "C:\\Users\\V\\AppData\\Local\\Temp/ipykernel_3376/3034507790.py:1: SettingWithCopyWarning: \n",
      "A value is trying to be set on a copy of a slice from a DataFrame.\n",
      "Try using .loc[row_indexer,col_indexer] = value instead\n",
      "\n",
      "See the caveats in the documentation: https://pandas.pydata.org/pandas-docs/stable/user_guide/indexing.html#returning-a-view-versus-a-copy\n",
      "  acer['ScreenResolution'] = acer['ScreenResolution'].replace({'Full HD':'',' ':''},regex=True)\n"
     ]
    }
   ],
   "source": [
    "acer['ScreenResolution'] = acer['ScreenResolution'].replace({'Full HD':'',' ':''},regex=True)"
   ]
  },
  {
   "cell_type": "code",
   "execution_count": 11,
   "id": "ef0a865b",
   "metadata": {},
   "outputs": [],
   "source": [
    "mask = [\"Company\",\"Product\",\"ScreenResolution\"]\n",
    "df1=acer[mask]"
   ]
  },
  {
   "cell_type": "code",
   "execution_count": 12,
   "id": "45f105fc",
   "metadata": {},
   "outputs": [],
   "source": [
    "#Apple"
   ]
  },
  {
   "cell_type": "code",
   "execution_count": 13,
   "id": "0aed1ae7",
   "metadata": {},
   "outputs": [],
   "source": [
    "apl = r_str[\"Company\"].isin([\"Apple\"])"
   ]
  },
  {
   "cell_type": "code",
   "execution_count": 14,
   "id": "00ef4a66",
   "metadata": {},
   "outputs": [],
   "source": [
    "apple = r_str[apl]"
   ]
  },
  {
   "cell_type": "code",
   "execution_count": 15,
   "id": "52aaeb87",
   "metadata": {},
   "outputs": [
    {
     "name": "stderr",
     "output_type": "stream",
     "text": [
      "C:\\Users\\V\\AppData\\Local\\Temp/ipykernel_3376/3384023436.py:1: SettingWithCopyWarning: \n",
      "A value is trying to be set on a copy of a slice from a DataFrame.\n",
      "Try using .loc[row_indexer,col_indexer] = value instead\n",
      "\n",
      "See the caveats in the documentation: https://pandas.pydata.org/pandas-docs/stable/user_guide/indexing.html#returning-a-view-versus-a-copy\n",
      "  apple['ScreenResolution'] = apple['ScreenResolution'].replace({'IPS Panel Retina Display':'',' ':''},regex=True)\n"
     ]
    }
   ],
   "source": [
    "apple['ScreenResolution'] = apple['ScreenResolution'].replace({'IPS Panel Retina Display':'',' ':''},regex=True)"
   ]
  },
  {
   "cell_type": "code",
   "execution_count": 16,
   "id": "fdf879e1",
   "metadata": {},
   "outputs": [],
   "source": [
    "mask = [\"Company\",\"Product\",\"ScreenResolution\"]\n",
    "df2=apple[mask]"
   ]
  },
  {
   "cell_type": "code",
   "execution_count": 17,
   "id": "d51c02fa",
   "metadata": {},
   "outputs": [],
   "source": [
    "#Lenovo"
   ]
  },
  {
   "cell_type": "code",
   "execution_count": 18,
   "id": "fc07aa8a",
   "metadata": {},
   "outputs": [],
   "source": [
    "lenovo = r_str[\"Company\"].isin([\"Lenovo\"])"
   ]
  },
  {
   "cell_type": "code",
   "execution_count": 19,
   "id": "0acf973e",
   "metadata": {},
   "outputs": [],
   "source": [
    "leno = r_str[lenovo]"
   ]
  },
  {
   "cell_type": "code",
   "execution_count": 20,
   "id": "3a88104a",
   "metadata": {},
   "outputs": [
    {
     "name": "stderr",
     "output_type": "stream",
     "text": [
      "C:\\Users\\V\\AppData\\Local\\Temp/ipykernel_3376/732692165.py:1: SettingWithCopyWarning: \n",
      "A value is trying to be set on a copy of a slice from a DataFrame.\n",
      "Try using .loc[row_indexer,col_indexer] = value instead\n",
      "\n",
      "See the caveats in the documentation: https://pandas.pydata.org/pandas-docs/stable/user_guide/indexing.html#returning-a-view-versus-a-copy\n",
      "  leno['ScreenResolution']=leno['ScreenResolution'].replace({'Full HD':'',' ':''},regex=True)\n"
     ]
    }
   ],
   "source": [
    "leno['ScreenResolution']=leno['ScreenResolution'].replace({'Full HD':'',' ':''},regex=True)"
   ]
  },
  {
   "cell_type": "code",
   "execution_count": 21,
   "id": "e38b8b46",
   "metadata": {},
   "outputs": [],
   "source": [
    "test=leno['ScreenResolution'].replace({'IPSPanelQuadHD+/Touchscreen':'',' ':''},regex=True)"
   ]
  },
  {
   "cell_type": "code",
   "execution_count": 22,
   "id": "afa0884e",
   "metadata": {},
   "outputs": [
    {
     "data": {
      "text/plain": [
       "18                                 1920x1080\n",
       "35                                  1366x768\n",
       "46                                  1366x768\n",
       "68                                 1920x1080\n",
       "76                                 1920x1080\n",
       "                        ...                 \n",
       "1272                                1366x768\n",
       "1285    IPSPanelQuadHD+/Touchscreen3200x1800\n",
       "1286                                1366x768\n",
       "1299    IPSPanelQuadHD+/Touchscreen3200x1800\n",
       "1300                                1366x768\n",
       "Name: ScreenResolution, Length: 138, dtype: object"
      ]
     },
     "execution_count": 22,
     "metadata": {},
     "output_type": "execute_result"
    }
   ],
   "source": [
    "test"
   ]
  },
  {
   "cell_type": "code",
   "execution_count": 83,
   "id": "9919c311",
   "metadata": {},
   "outputs": [
    {
     "data": {
      "text/html": [
       "<div>\n",
       "<style scoped>\n",
       "    .dataframe tbody tr th:only-of-type {\n",
       "        vertical-align: middle;\n",
       "    }\n",
       "\n",
       "    .dataframe tbody tr th {\n",
       "        vertical-align: top;\n",
       "    }\n",
       "\n",
       "    .dataframe thead th {\n",
       "        text-align: right;\n",
       "    }\n",
       "</style>\n",
       "<table border=\"1\" class=\"dataframe\">\n",
       "  <thead>\n",
       "    <tr style=\"text-align: right;\">\n",
       "      <th></th>\n",
       "      <th>Company</th>\n",
       "      <th>Product</th>\n",
       "      <th>ScreenResolution</th>\n",
       "    </tr>\n",
       "  </thead>\n",
       "  <tbody>\n",
       "    <tr>\n",
       "      <th>18</th>\n",
       "      <td>Lenovo</td>\n",
       "      <td>IdeaPad 320-15IKB</td>\n",
       "      <td>1920x1080</td>\n",
       "    </tr>\n",
       "    <tr>\n",
       "      <th>35</th>\n",
       "      <td>Lenovo</td>\n",
       "      <td>IdeaPad 120S-14IAP</td>\n",
       "      <td>1366x768</td>\n",
       "    </tr>\n",
       "    <tr>\n",
       "      <th>46</th>\n",
       "      <td>Lenovo</td>\n",
       "      <td>IdeaPad 320-15ISK</td>\n",
       "      <td>1366x768</td>\n",
       "    </tr>\n",
       "    <tr>\n",
       "      <th>68</th>\n",
       "      <td>Lenovo</td>\n",
       "      <td>V310-15ISK (i5-7200U/4GB/1TB/FHD/W10)</td>\n",
       "      <td>1920x1080</td>\n",
       "    </tr>\n",
       "    <tr>\n",
       "      <th>76</th>\n",
       "      <td>Lenovo</td>\n",
       "      <td>IdeaPad 320-15IKBN</td>\n",
       "      <td>1920x1080</td>\n",
       "    </tr>\n",
       "    <tr>\n",
       "      <th>...</th>\n",
       "      <td>...</td>\n",
       "      <td>...</td>\n",
       "      <td>...</td>\n",
       "    </tr>\n",
       "    <tr>\n",
       "      <th>1272</th>\n",
       "      <td>Lenovo</td>\n",
       "      <td>IdeaPad 100S-14IBR</td>\n",
       "      <td>1366x768</td>\n",
       "    </tr>\n",
       "    <tr>\n",
       "      <th>1285</th>\n",
       "      <td>Lenovo</td>\n",
       "      <td>Yoga 900-13ISK</td>\n",
       "      <td>IPSPanelQuadHD+/Touchscreen3200x1800</td>\n",
       "    </tr>\n",
       "    <tr>\n",
       "      <th>1286</th>\n",
       "      <td>Lenovo</td>\n",
       "      <td>IdeaPad 100S-14IBR</td>\n",
       "      <td>1366x768</td>\n",
       "    </tr>\n",
       "    <tr>\n",
       "      <th>1299</th>\n",
       "      <td>Lenovo</td>\n",
       "      <td>Yoga 900-13ISK</td>\n",
       "      <td>IPSPanelQuadHD+/Touchscreen3200x1800</td>\n",
       "    </tr>\n",
       "    <tr>\n",
       "      <th>1300</th>\n",
       "      <td>Lenovo</td>\n",
       "      <td>IdeaPad 100S-14IBR</td>\n",
       "      <td>1366x768</td>\n",
       "    </tr>\n",
       "  </tbody>\n",
       "</table>\n",
       "<p>138 rows × 3 columns</p>\n",
       "</div>"
      ],
      "text/plain": [
       "     Company                                Product  \\\n",
       "18    Lenovo                      IdeaPad 320-15IKB   \n",
       "35    Lenovo                     IdeaPad 120S-14IAP   \n",
       "46    Lenovo                      IdeaPad 320-15ISK   \n",
       "68    Lenovo  V310-15ISK (i5-7200U/4GB/1TB/FHD/W10)   \n",
       "76    Lenovo                     IdeaPad 320-15IKBN   \n",
       "...      ...                                    ...   \n",
       "1272  Lenovo                     IdeaPad 100S-14IBR   \n",
       "1285  Lenovo                         Yoga 900-13ISK   \n",
       "1286  Lenovo                     IdeaPad 100S-14IBR   \n",
       "1299  Lenovo                         Yoga 900-13ISK   \n",
       "1300  Lenovo                     IdeaPad 100S-14IBR   \n",
       "\n",
       "                          ScreenResolution  \n",
       "18                               1920x1080  \n",
       "35                                1366x768  \n",
       "46                                1366x768  \n",
       "68                               1920x1080  \n",
       "76                               1920x1080  \n",
       "...                                    ...  \n",
       "1272                              1366x768  \n",
       "1285  IPSPanelQuadHD+/Touchscreen3200x1800  \n",
       "1286                              1366x768  \n",
       "1299  IPSPanelQuadHD+/Touchscreen3200x1800  \n",
       "1300                              1366x768  \n",
       "\n",
       "[138 rows x 3 columns]"
      ]
     },
     "execution_count": 83,
     "metadata": {},
     "output_type": "execute_result"
    }
   ],
   "source": [
    "mask = [\"Company\",\"Product\",\"ScreenResolution\"]\n",
    "df4=leno[mask]\n",
    "df4"
   ]
  },
  {
   "cell_type": "code",
   "execution_count": 23,
   "id": "4ddf2f9b",
   "metadata": {},
   "outputs": [],
   "source": [
    "#HP"
   ]
  },
  {
   "cell_type": "code",
   "execution_count": 24,
   "id": "40022f44",
   "metadata": {},
   "outputs": [],
   "source": [
    "hp = r_str[\"Company\"].isin([\"HP\"])"
   ]
  },
  {
   "cell_type": "code",
   "execution_count": 25,
   "id": "94c682d8",
   "metadata": {},
   "outputs": [],
   "source": [
    "hp_l = r_str[hp]"
   ]
  },
  {
   "cell_type": "code",
   "execution_count": 26,
   "id": "7e0c79ef",
   "metadata": {},
   "outputs": [],
   "source": [
    "mask = [\"Company\",\"Product\",\"ScreenResolution\"]\n",
    "df3=hp_l[mask]"
   ]
  },
  {
   "cell_type": "code",
   "execution_count": 35,
   "id": "23de2ebe",
   "metadata": {},
   "outputs": [
    {
     "name": "stderr",
     "output_type": "stream",
     "text": [
      "C:\\Users\\V\\AppData\\Local\\Temp/ipykernel_3376/3476878882.py:1: SettingWithCopyWarning: \n",
      "A value is trying to be set on a copy of a slice from a DataFrame.\n",
      "Try using .loc[row_indexer,col_indexer] = value instead\n",
      "\n",
      "See the caveats in the documentation: https://pandas.pydata.org/pandas-docs/stable/user_guide/indexing.html#returning-a-view-versus-a-copy\n",
      "  hp_l['ScreenResolution']=hp_l['ScreenResolution'].replace({'Full HD':'',' ':''},regex=True)\n"
     ]
    }
   ],
   "source": [
    "hp_l['ScreenResolution']=hp_l['ScreenResolution'].replace({'Full HD':'',' ':''},regex=True)"
   ]
  },
  {
   "cell_type": "code",
   "execution_count": 28,
   "id": "6f630d04",
   "metadata": {},
   "outputs": [
    {
     "name": "stderr",
     "output_type": "stream",
     "text": [
      "C:\\Users\\V\\AppData\\Local\\Temp/ipykernel_3376/153035521.py:1: SettingWithCopyWarning: \n",
      "A value is trying to be set on a copy of a slice from a DataFrame.\n",
      "Try using .loc[row_indexer,col_indexer] = value instead\n",
      "\n",
      "See the caveats in the documentation: https://pandas.pydata.org/pandas-docs/stable/user_guide/indexing.html#returning-a-view-versus-a-copy\n",
      "  hp_l['ScreenResolution']=hp_l['ScreenResolution'].replace({'Full HD':'',' ':''},regex=True)\n"
     ]
    }
   ],
   "source": [
    "hp_l['ScreenResolution']=hp_l['ScreenResolution'].replace({'Full HD':'',' ':''},regex=True)\n",
    "#hp_l"
   ]
  },
  {
   "cell_type": "code",
   "execution_count": 84,
   "id": "5de4196b",
   "metadata": {},
   "outputs": [],
   "source": [
    "frames = [df1, df2, df3,df4]"
   ]
  },
  {
   "cell_type": "code",
   "execution_count": 85,
   "id": "4a79d43d",
   "metadata": {},
   "outputs": [],
   "source": [
    "result = pd.concat(frames)"
   ]
  },
  {
   "cell_type": "code",
   "execution_count": 86,
   "id": "949b15b3",
   "metadata": {},
   "outputs": [
    {
     "data": {
      "text/html": [
       "<div>\n",
       "<style scoped>\n",
       "    .dataframe tbody tr th:only-of-type {\n",
       "        vertical-align: middle;\n",
       "    }\n",
       "\n",
       "    .dataframe tbody tr th {\n",
       "        vertical-align: top;\n",
       "    }\n",
       "\n",
       "    .dataframe thead th {\n",
       "        text-align: right;\n",
       "    }\n",
       "</style>\n",
       "<table border=\"1\" class=\"dataframe\">\n",
       "  <thead>\n",
       "    <tr style=\"text-align: right;\">\n",
       "      <th></th>\n",
       "      <th>Company</th>\n",
       "      <th>Product</th>\n",
       "      <th>ScreenResolution</th>\n",
       "    </tr>\n",
       "  </thead>\n",
       "  <tbody>\n",
       "    <tr>\n",
       "      <th>5</th>\n",
       "      <td>Acer</td>\n",
       "      <td>Aspire 3</td>\n",
       "      <td>1366x768</td>\n",
       "    </tr>\n",
       "    <tr>\n",
       "      <th>36</th>\n",
       "      <td>Acer</td>\n",
       "      <td>Aspire 3</td>\n",
       "      <td>1366x768</td>\n",
       "    </tr>\n",
       "    <tr>\n",
       "      <th>54</th>\n",
       "      <td>Acer</td>\n",
       "      <td>Aspire 3</td>\n",
       "      <td>1366x768</td>\n",
       "    </tr>\n",
       "    <tr>\n",
       "      <th>74</th>\n",
       "      <td>Acer</td>\n",
       "      <td>Aspire E5-475</td>\n",
       "      <td>1366x768</td>\n",
       "    </tr>\n",
       "    <tr>\n",
       "      <th>78</th>\n",
       "      <td>Acer</td>\n",
       "      <td>Aspire A515-51G-32MX</td>\n",
       "      <td>1920x1080</td>\n",
       "    </tr>\n",
       "    <tr>\n",
       "      <th>...</th>\n",
       "      <td>...</td>\n",
       "      <td>...</td>\n",
       "      <td>...</td>\n",
       "    </tr>\n",
       "    <tr>\n",
       "      <th>1272</th>\n",
       "      <td>Lenovo</td>\n",
       "      <td>IdeaPad 100S-14IBR</td>\n",
       "      <td>1366x768</td>\n",
       "    </tr>\n",
       "    <tr>\n",
       "      <th>1285</th>\n",
       "      <td>Lenovo</td>\n",
       "      <td>Yoga 900-13ISK</td>\n",
       "      <td>IPSPanelQuadHD+/Touchscreen3200x1800</td>\n",
       "    </tr>\n",
       "    <tr>\n",
       "      <th>1286</th>\n",
       "      <td>Lenovo</td>\n",
       "      <td>IdeaPad 100S-14IBR</td>\n",
       "      <td>1366x768</td>\n",
       "    </tr>\n",
       "    <tr>\n",
       "      <th>1299</th>\n",
       "      <td>Lenovo</td>\n",
       "      <td>Yoga 900-13ISK</td>\n",
       "      <td>IPSPanelQuadHD+/Touchscreen3200x1800</td>\n",
       "    </tr>\n",
       "    <tr>\n",
       "      <th>1300</th>\n",
       "      <td>Lenovo</td>\n",
       "      <td>IdeaPad 100S-14IBR</td>\n",
       "      <td>1366x768</td>\n",
       "    </tr>\n",
       "  </tbody>\n",
       "</table>\n",
       "<p>406 rows × 3 columns</p>\n",
       "</div>"
      ],
      "text/plain": [
       "     Company               Product                      ScreenResolution\n",
       "5       Acer              Aspire 3                              1366x768\n",
       "36      Acer              Aspire 3                              1366x768\n",
       "54      Acer              Aspire 3                              1366x768\n",
       "74      Acer         Aspire E5-475                              1366x768\n",
       "78      Acer  Aspire A515-51G-32MX                             1920x1080\n",
       "...      ...                   ...                                   ...\n",
       "1272  Lenovo    IdeaPad 100S-14IBR                              1366x768\n",
       "1285  Lenovo        Yoga 900-13ISK  IPSPanelQuadHD+/Touchscreen3200x1800\n",
       "1286  Lenovo    IdeaPad 100S-14IBR                              1366x768\n",
       "1299  Lenovo        Yoga 900-13ISK  IPSPanelQuadHD+/Touchscreen3200x1800\n",
       "1300  Lenovo    IdeaPad 100S-14IBR                              1366x768\n",
       "\n",
       "[406 rows x 3 columns]"
      ]
     },
     "execution_count": 86,
     "metadata": {},
     "output_type": "execute_result"
    }
   ],
   "source": [
    "result"
   ]
  },
  {
   "cell_type": "code",
   "execution_count": 87,
   "id": "92a1ad91",
   "metadata": {},
   "outputs": [],
   "source": [
    "a=pd.pivot_table(result,index=['Company','ScreenResolution'],aggfunc='count')\n",
    "a=a.reset_index()\n",
    "#a"
   ]
  },
  {
   "cell_type": "code",
   "execution_count": 89,
   "id": "cf57242e",
   "metadata": {},
   "outputs": [
    {
     "data": {
      "image/png": "[encoded data removed]",
      "text/plain": [
       "<Figure size 432x288 with 1 Axes>"
      ]
     },
     "metadata": {
      "needs_background": "light"
     },
     "output_type": "display_data"
    }
   ],
   "source": [
    "b=pd.pivot_table(a,index='Company',columns='ScreenResolution',values='Product')\n",
    "b.plot(kind='bar',stacked=True)\n",
    "#plt.figure(figsize=(40,40))\n",
    "plt.show()"
   ]
  }
 ],
 "metadata": {
  "kernelspec": {
   "display_name": "Python 3 (ipykernel)",
   "language": "python",
   "name": "python3"
  },
  "language_info": {
   "codemirror_mode": {
    "name": "ipython",
    "version": 3
   },
   "file_extension": ".py",
   "mimetype": "text/x-python",
   "name": "python",
   "nbconvert_exporter": "python",
   "pygments_lexer": "ipython3",
   "version": "3.9.7"
  }
 },
 "nbformat": 4,
 "nbformat_minor": 5
}

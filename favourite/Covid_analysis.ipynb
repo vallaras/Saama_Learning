{
 "cells": [
  {
   "cell_type": "code",
   "execution_count": 65,
   "id": "bf2629cb",
   "metadata": {},
   "outputs": [],
   "source": [
    "import pandas as pd\n",
    "import matplotlib.pyplot as plt"
   ]
  },
  {
   "cell_type": "code",
   "execution_count": 11,
   "id": "55b51c5c",
   "metadata": {},
   "outputs": [],
   "source": [
    "df=pd.read_csv('overview_2021-07-15.csv')"
   ]
  },
  {
   "cell_type": "code",
   "execution_count": 14,
   "id": "d25409f3",
   "metadata": {},
   "outputs": [
    {
     "data": {
      "text/html": [
       "<div>\n",
       "<style scoped>\n",
       "    .dataframe tbody tr th:only-of-type {\n",
       "        vertical-align: middle;\n",
       "    }\n",
       "\n",
       "    .dataframe tbody tr th {\n",
       "        vertical-align: top;\n",
       "    }\n",
       "\n",
       "    .dataframe thead th {\n",
       "        text-align: right;\n",
       "    }\n",
       "</style>\n",
       "<table border=\"1\" class=\"dataframe\">\n",
       "  <thead>\n",
       "    <tr style=\"text-align: right;\">\n",
       "      <th></th>\n",
       "      <th>areaCode</th>\n",
       "      <th>areaName</th>\n",
       "      <th>areaType</th>\n",
       "      <th>date</th>\n",
       "      <th>hospitalCases</th>\n",
       "      <th>newAdmissions</th>\n",
       "      <th>newCasesByPublishDate</th>\n",
       "      <th>newPeopleVaccinatedFirstDoseByPublishDate</th>\n",
       "      <th>newPeopleVaccinatedSecondDoseByPublishDate</th>\n",
       "    </tr>\n",
       "  </thead>\n",
       "  <tbody>\n",
       "    <tr>\n",
       "      <th>0</th>\n",
       "      <td>K02000001</td>\n",
       "      <td>United Kingdom</td>\n",
       "      <td>overview</td>\n",
       "      <td>2021-07-15</td>\n",
       "      <td>NaN</td>\n",
       "      <td>NaN</td>\n",
       "      <td>48553</td>\n",
       "      <td>NaN</td>\n",
       "      <td>NaN</td>\n",
       "    </tr>\n",
       "    <tr>\n",
       "      <th>1</th>\n",
       "      <td>K02000001</td>\n",
       "      <td>United Kingdom</td>\n",
       "      <td>overview</td>\n",
       "      <td>2021-07-14</td>\n",
       "      <td>3786.0</td>\n",
       "      <td>NaN</td>\n",
       "      <td>42302</td>\n",
       "      <td>60374.0</td>\n",
       "      <td>185661.0</td>\n",
       "    </tr>\n",
       "    <tr>\n",
       "      <th>2</th>\n",
       "      <td>K02000001</td>\n",
       "      <td>United Kingdom</td>\n",
       "      <td>overview</td>\n",
       "      <td>2021-07-13</td>\n",
       "      <td>3623.0</td>\n",
       "      <td>NaN</td>\n",
       "      <td>36660</td>\n",
       "      <td>59073.0</td>\n",
       "      <td>158276.0</td>\n",
       "    </tr>\n",
       "    <tr>\n",
       "      <th>3</th>\n",
       "      <td>K02000001</td>\n",
       "      <td>United Kingdom</td>\n",
       "      <td>overview</td>\n",
       "      <td>2021-07-12</td>\n",
       "      <td>3415.0</td>\n",
       "      <td>NaN</td>\n",
       "      <td>34471</td>\n",
       "      <td>54296.0</td>\n",
       "      <td>125360.0</td>\n",
       "    </tr>\n",
       "    <tr>\n",
       "      <th>4</th>\n",
       "      <td>K02000001</td>\n",
       "      <td>United Kingdom</td>\n",
       "      <td>overview</td>\n",
       "      <td>2021-07-11</td>\n",
       "      <td>3144.0</td>\n",
       "      <td>582.0</td>\n",
       "      <td>31772</td>\n",
       "      <td>42000.0</td>\n",
       "      <td>107620.0</td>\n",
       "    </tr>\n",
       "  </tbody>\n",
       "</table>\n",
       "</div>"
      ],
      "text/plain": [
       "    areaCode        areaName  areaType        date  hospitalCases  \\\n",
       "0  K02000001  United Kingdom  overview  2021-07-15            NaN   \n",
       "1  K02000001  United Kingdom  overview  2021-07-14         3786.0   \n",
       "2  K02000001  United Kingdom  overview  2021-07-13         3623.0   \n",
       "3  K02000001  United Kingdom  overview  2021-07-12         3415.0   \n",
       "4  K02000001  United Kingdom  overview  2021-07-11         3144.0   \n",
       "\n",
       "   newAdmissions  newCasesByPublishDate  \\\n",
       "0            NaN                  48553   \n",
       "1            NaN                  42302   \n",
       "2            NaN                  36660   \n",
       "3            NaN                  34471   \n",
       "4          582.0                  31772   \n",
       "\n",
       "   newPeopleVaccinatedFirstDoseByPublishDate  \\\n",
       "0                                        NaN   \n",
       "1                                    60374.0   \n",
       "2                                    59073.0   \n",
       "3                                    54296.0   \n",
       "4                                    42000.0   \n",
       "\n",
       "   newPeopleVaccinatedSecondDoseByPublishDate  \n",
       "0                                         NaN  \n",
       "1                                    185661.0  \n",
       "2                                    158276.0  \n",
       "3                                    125360.0  \n",
       "4                                    107620.0  "
      ]
     },
     "execution_count": 14,
     "metadata": {},
     "output_type": "execute_result"
    }
   ],
   "source": [
    "df.head()"
   ]
  },
  {
   "cell_type": "code",
   "execution_count": 13,
   "id": "b94a4ea6",
   "metadata": {},
   "outputs": [
    {
     "name": "stdout",
     "output_type": "stream",
     "text": [
      "    areaCode        areaName  areaType        date  hospitalCases  newAdmissions  newCasesByPublishDate  newPeopleVaccinatedFirstDoseByPublishDate  newPeopleVaccinatedSecondDoseByPublishDate\n",
      "0  K02000001  United Kingdom  overview  2021-07-15            NaN            NaN                  48553                                        NaN                                         NaN\n",
      "1  K02000001  United Kingdom  overview  2021-07-14         3786.0            NaN                  42302                                    60374.0                                    185661.0\n",
      "2  K02000001  United Kingdom  overview  2021-07-13         3623.0            NaN                  36660                                    59073.0                                    158276.0\n",
      "3  K02000001  United Kingdom  overview  2021-07-12         3415.0            NaN                  34471                                    54296.0                                    125360.0\n",
      "4  K02000001  United Kingdom  overview  2021-07-11         3144.0          582.0                  31772                                    42000.0                                    107620.0\n",
      "      areaCode        areaName  areaType        date  hospitalCases  newAdmissions  newCasesByPublishDate  newPeopleVaccinatedFirstDoseByPublishDate  newPeopleVaccinatedSecondDoseByPublishDate\n",
      "527  K02000001  United Kingdom  overview  2020-02-04            NaN            NaN                      0                                        NaN                                         NaN\n",
      "528  K02000001  United Kingdom  overview  2020-02-03            NaN            NaN                      0                                        NaN                                         NaN\n",
      "529  K02000001  United Kingdom  overview  2020-02-02            NaN            NaN                      0                                        NaN                                         NaN\n",
      "530  K02000001  United Kingdom  overview  2020-02-01            NaN            NaN                      0                                        NaN                                         NaN\n",
      "531  K02000001  United Kingdom  overview  2020-01-31            NaN            NaN                      2                                        NaN                                         NaN\n"
     ]
    }
   ],
   "source": [
    "print(df.head().to_string())\n",
    "print(df.tail().to_string())"
   ]
  },
  {
   "cell_type": "code",
   "execution_count": 15,
   "id": "8f358d38",
   "metadata": {},
   "outputs": [],
   "source": [
    "df.drop(['areaCode','areaName','areaType'],axis='columns',inplace=True)"
   ]
  },
  {
   "cell_type": "code",
   "execution_count": 16,
   "id": "3b0c5f58",
   "metadata": {},
   "outputs": [
    {
     "name": "stdout",
     "output_type": "stream",
     "text": [
      "         date  hospitalCases  newAdmissions  newCasesByPublishDate  newPeopleVaccinatedFirstDoseByPublishDate  newPeopleVaccinatedSecondDoseByPublishDate\n",
      "0  2021-07-15            NaN            NaN                  48553                                        NaN                                         NaN\n",
      "1  2021-07-14         3786.0            NaN                  42302                                    60374.0                                    185661.0\n",
      "2  2021-07-13         3623.0            NaN                  36660                                    59073.0                                    158276.0\n",
      "3  2021-07-12         3415.0            NaN                  34471                                    54296.0                                    125360.0\n",
      "4  2021-07-11         3144.0          582.0                  31772                                    42000.0                                    107620.0\n"
     ]
    }
   ],
   "source": [
    "print(df.head().to_string())"
   ]
  },
  {
   "cell_type": "code",
   "execution_count": 20,
   "id": "efe0e52c",
   "metadata": {},
   "outputs": [],
   "source": [
    "df['date']=pd.to_datetime(df['date'])"
   ]
  },
  {
   "cell_type": "code",
   "execution_count": 22,
   "id": "015378da",
   "metadata": {},
   "outputs": [
    {
     "data": {
      "text/plain": [
       "0   2021-07-15\n",
       "1   2021-07-14\n",
       "2   2021-07-13\n",
       "3   2021-07-12\n",
       "4   2021-07-11\n",
       "Name: date, dtype: datetime64[ns]"
      ]
     },
     "execution_count": 22,
     "metadata": {},
     "output_type": "execute_result"
    }
   ],
   "source": [
    "df['date'].head()"
   ]
  },
  {
   "cell_type": "markdown",
   "id": "6f3d064e",
   "metadata": {},
   "source": [
    " Want to select 2020-02-15 to the 2020-12-31 in terms of dates"
   ]
  },
  {
   "cell_type": "code",
   "execution_count": 23,
   "id": "f4d00cc2",
   "metadata": {},
   "outputs": [],
   "source": [
    "df.sort_values(by=['date'],ignore_index=True,inplace=True)"
   ]
  },
  {
   "cell_type": "code",
   "execution_count": 31,
   "id": "c5eeed6c",
   "metadata": {},
   "outputs": [],
   "source": [
    "df1 = (df['date'] > '2020-02-14') & (df['date'] <= '2020-12-31')"
   ]
  },
  {
   "cell_type": "code",
   "execution_count": 32,
   "id": "51c4ac9a",
   "metadata": {},
   "outputs": [],
   "source": [
    "df = df.loc[df1]"
   ]
  },
  {
   "cell_type": "code",
   "execution_count": 34,
   "id": "a4155fad",
   "metadata": {},
   "outputs": [],
   "source": [
    "count = df.isnull().sum()"
   ]
  },
  {
   "cell_type": "code",
   "execution_count": 35,
   "id": "fa4c7d52",
   "metadata": {},
   "outputs": [
    {
     "name": "stdout",
     "output_type": "stream",
     "text": [
      "date                                            0\n",
      "hospitalCases                                  41\n",
      "newAdmissions                                  37\n",
      "newCasesByPublishDate                           0\n",
      "newPeopleVaccinatedFirstDoseByPublishDate     321\n",
      "newPeopleVaccinatedSecondDoseByPublishDate    321\n",
      "dtype: int64\n"
     ]
    }
   ],
   "source": [
    "print(count)"
   ]
  },
  {
   "cell_type": "code",
   "execution_count": 36,
   "id": "cd8c60e8",
   "metadata": {},
   "outputs": [],
   "source": [
    "df.drop(['newPeopleVaccinatedFirstDoseByPublishDate',\n",
    "          'newPeopleVaccinatedSecondDoseByPublishDate'],\n",
    "         axis='columns',\n",
    "         inplace=True)"
   ]
  },
  {
   "cell_type": "code",
   "execution_count": 37,
   "id": "e0882e1b",
   "metadata": {},
   "outputs": [
    {
     "data": {
      "text/html": [
       "<div>\n",
       "<style scoped>\n",
       "    .dataframe tbody tr th:only-of-type {\n",
       "        vertical-align: middle;\n",
       "    }\n",
       "\n",
       "    .dataframe tbody tr th {\n",
       "        vertical-align: top;\n",
       "    }\n",
       "\n",
       "    .dataframe thead th {\n",
       "        text-align: right;\n",
       "    }\n",
       "</style>\n",
       "<table border=\"1\" class=\"dataframe\">\n",
       "  <thead>\n",
       "    <tr style=\"text-align: right;\">\n",
       "      <th></th>\n",
       "      <th>date</th>\n",
       "      <th>hospitalCases</th>\n",
       "      <th>newAdmissions</th>\n",
       "      <th>newCasesByPublishDate</th>\n",
       "    </tr>\n",
       "  </thead>\n",
       "  <tbody>\n",
       "    <tr>\n",
       "      <th>15</th>\n",
       "      <td>2020-02-15</td>\n",
       "      <td>NaN</td>\n",
       "      <td>NaN</td>\n",
       "      <td>0</td>\n",
       "    </tr>\n",
       "    <tr>\n",
       "      <th>16</th>\n",
       "      <td>2020-02-16</td>\n",
       "      <td>NaN</td>\n",
       "      <td>NaN</td>\n",
       "      <td>0</td>\n",
       "    </tr>\n",
       "    <tr>\n",
       "      <th>17</th>\n",
       "      <td>2020-02-17</td>\n",
       "      <td>NaN</td>\n",
       "      <td>NaN</td>\n",
       "      <td>0</td>\n",
       "    </tr>\n",
       "    <tr>\n",
       "      <th>18</th>\n",
       "      <td>2020-02-18</td>\n",
       "      <td>NaN</td>\n",
       "      <td>NaN</td>\n",
       "      <td>0</td>\n",
       "    </tr>\n",
       "    <tr>\n",
       "      <th>19</th>\n",
       "      <td>2020-02-19</td>\n",
       "      <td>NaN</td>\n",
       "      <td>NaN</td>\n",
       "      <td>0</td>\n",
       "    </tr>\n",
       "  </tbody>\n",
       "</table>\n",
       "</div>"
      ],
      "text/plain": [
       "         date  hospitalCases  newAdmissions  newCasesByPublishDate\n",
       "15 2020-02-15            NaN            NaN                      0\n",
       "16 2020-02-16            NaN            NaN                      0\n",
       "17 2020-02-17            NaN            NaN                      0\n",
       "18 2020-02-18            NaN            NaN                      0\n",
       "19 2020-02-19            NaN            NaN                      0"
      ]
     },
     "execution_count": 37,
     "metadata": {},
     "output_type": "execute_result"
    }
   ],
   "source": [
    "df.head()"
   ]
  },
  {
   "cell_type": "code",
   "execution_count": 44,
   "id": "7f269f42",
   "metadata": {},
   "outputs": [
    {
     "name": "stdout",
     "output_type": "stream",
     "text": [
      "          date  hospitalCases  newAdmissions  newCasesByPublishDate\n",
      "63  2020-04-03        15546.0         2930.0                   4672\n",
      "312 2020-12-08        16477.0         1783.0                  12282\n",
      "160 2020-07-09         2344.0          213.0                    642\n",
      "218 2020-09-05          812.0          130.0                   1813\n",
      "187 2020-08-05         1200.0          140.0                    892\n",
      "56  2020-03-27         7267.0         2227.0                   2890\n",
      "270 2020-10-27        10938.0         1490.0                  22885\n",
      "227 2020-09-14          982.0          255.0                   2621\n",
      "268 2020-10-25         9786.0         1420.0                  19790\n",
      "295 2020-11-21        17063.0         1460.0                  19875\n"
     ]
    }
   ],
   "source": [
    "print(df.sample(10).to_string())"
   ]
  },
  {
   "cell_type": "code",
   "execution_count": 45,
   "id": "eae527c4",
   "metadata": {},
   "outputs": [],
   "source": [
    "df_2 = pd.read_csv('2020_GB_Region_Mobility_Report.csv')"
   ]
  },
  {
   "cell_type": "code",
   "execution_count": 46,
   "id": "55a6af4d",
   "metadata": {},
   "outputs": [
    {
     "data": {
      "text/html": [
       "<div>\n",
       "<style scoped>\n",
       "    .dataframe tbody tr th:only-of-type {\n",
       "        vertical-align: middle;\n",
       "    }\n",
       "\n",
       "    .dataframe tbody tr th {\n",
       "        vertical-align: top;\n",
       "    }\n",
       "\n",
       "    .dataframe thead th {\n",
       "        text-align: right;\n",
       "    }\n",
       "</style>\n",
       "<table border=\"1\" class=\"dataframe\">\n",
       "  <thead>\n",
       "    <tr style=\"text-align: right;\">\n",
       "      <th></th>\n",
       "      <th>country_region_code</th>\n",
       "      <th>country_region</th>\n",
       "      <th>sub_region_1</th>\n",
       "      <th>sub_region_2</th>\n",
       "      <th>metro_area</th>\n",
       "      <th>iso_3166_2_code</th>\n",
       "      <th>census_fips_code</th>\n",
       "      <th>place_id</th>\n",
       "      <th>date</th>\n",
       "      <th>retail_and_recreation_percent_change_from_baseline</th>\n",
       "      <th>grocery_and_pharmacy_percent_change_from_baseline</th>\n",
       "      <th>parks_percent_change_from_baseline</th>\n",
       "      <th>transit_stations_percent_change_from_baseline</th>\n",
       "      <th>workplaces_percent_change_from_baseline</th>\n",
       "      <th>residential_percent_change_from_baseline</th>\n",
       "    </tr>\n",
       "  </thead>\n",
       "  <tbody>\n",
       "    <tr>\n",
       "      <th>0</th>\n",
       "      <td>GB</td>\n",
       "      <td>United Kingdom</td>\n",
       "      <td>NaN</td>\n",
       "      <td>NaN</td>\n",
       "      <td>NaN</td>\n",
       "      <td>NaN</td>\n",
       "      <td>NaN</td>\n",
       "      <td>ChIJqZHHQhE7WgIReiWIMkOg-MQ</td>\n",
       "      <td>2020-02-15</td>\n",
       "      <td>-12.0</td>\n",
       "      <td>-7.0</td>\n",
       "      <td>-35.0</td>\n",
       "      <td>-12.0</td>\n",
       "      <td>-4.0</td>\n",
       "      <td>2.0</td>\n",
       "    </tr>\n",
       "    <tr>\n",
       "      <th>1</th>\n",
       "      <td>GB</td>\n",
       "      <td>United Kingdom</td>\n",
       "      <td>NaN</td>\n",
       "      <td>NaN</td>\n",
       "      <td>NaN</td>\n",
       "      <td>NaN</td>\n",
       "      <td>NaN</td>\n",
       "      <td>ChIJqZHHQhE7WgIReiWIMkOg-MQ</td>\n",
       "      <td>2020-02-16</td>\n",
       "      <td>-7.0</td>\n",
       "      <td>-6.0</td>\n",
       "      <td>-28.0</td>\n",
       "      <td>-7.0</td>\n",
       "      <td>-3.0</td>\n",
       "      <td>1.0</td>\n",
       "    </tr>\n",
       "    <tr>\n",
       "      <th>2</th>\n",
       "      <td>GB</td>\n",
       "      <td>United Kingdom</td>\n",
       "      <td>NaN</td>\n",
       "      <td>NaN</td>\n",
       "      <td>NaN</td>\n",
       "      <td>NaN</td>\n",
       "      <td>NaN</td>\n",
       "      <td>ChIJqZHHQhE7WgIReiWIMkOg-MQ</td>\n",
       "      <td>2020-02-17</td>\n",
       "      <td>10.0</td>\n",
       "      <td>1.0</td>\n",
       "      <td>24.0</td>\n",
       "      <td>-2.0</td>\n",
       "      <td>-14.0</td>\n",
       "      <td>2.0</td>\n",
       "    </tr>\n",
       "    <tr>\n",
       "      <th>3</th>\n",
       "      <td>GB</td>\n",
       "      <td>United Kingdom</td>\n",
       "      <td>NaN</td>\n",
       "      <td>NaN</td>\n",
       "      <td>NaN</td>\n",
       "      <td>NaN</td>\n",
       "      <td>NaN</td>\n",
       "      <td>ChIJqZHHQhE7WgIReiWIMkOg-MQ</td>\n",
       "      <td>2020-02-18</td>\n",
       "      <td>7.0</td>\n",
       "      <td>-1.0</td>\n",
       "      <td>20.0</td>\n",
       "      <td>-3.0</td>\n",
       "      <td>-14.0</td>\n",
       "      <td>2.0</td>\n",
       "    </tr>\n",
       "    <tr>\n",
       "      <th>4</th>\n",
       "      <td>GB</td>\n",
       "      <td>United Kingdom</td>\n",
       "      <td>NaN</td>\n",
       "      <td>NaN</td>\n",
       "      <td>NaN</td>\n",
       "      <td>NaN</td>\n",
       "      <td>NaN</td>\n",
       "      <td>ChIJqZHHQhE7WgIReiWIMkOg-MQ</td>\n",
       "      <td>2020-02-19</td>\n",
       "      <td>6.0</td>\n",
       "      <td>-2.0</td>\n",
       "      <td>8.0</td>\n",
       "      <td>-4.0</td>\n",
       "      <td>-14.0</td>\n",
       "      <td>3.0</td>\n",
       "    </tr>\n",
       "  </tbody>\n",
       "</table>\n",
       "</div>"
      ],
      "text/plain": [
       "  country_region_code  country_region sub_region_1 sub_region_2  metro_area  \\\n",
       "0                  GB  United Kingdom          NaN          NaN         NaN   \n",
       "1                  GB  United Kingdom          NaN          NaN         NaN   \n",
       "2                  GB  United Kingdom          NaN          NaN         NaN   \n",
       "3                  GB  United Kingdom          NaN          NaN         NaN   \n",
       "4                  GB  United Kingdom          NaN          NaN         NaN   \n",
       "\n",
       "  iso_3166_2_code  census_fips_code                     place_id        date  \\\n",
       "0             NaN               NaN  ChIJqZHHQhE7WgIReiWIMkOg-MQ  2020-02-15   \n",
       "1             NaN               NaN  ChIJqZHHQhE7WgIReiWIMkOg-MQ  2020-02-16   \n",
       "2             NaN               NaN  ChIJqZHHQhE7WgIReiWIMkOg-MQ  2020-02-17   \n",
       "3             NaN               NaN  ChIJqZHHQhE7WgIReiWIMkOg-MQ  2020-02-18   \n",
       "4             NaN               NaN  ChIJqZHHQhE7WgIReiWIMkOg-MQ  2020-02-19   \n",
       "\n",
       "   retail_and_recreation_percent_change_from_baseline  \\\n",
       "0                                              -12.0    \n",
       "1                                               -7.0    \n",
       "2                                               10.0    \n",
       "3                                                7.0    \n",
       "4                                                6.0    \n",
       "\n",
       "   grocery_and_pharmacy_percent_change_from_baseline  \\\n",
       "0                                               -7.0   \n",
       "1                                               -6.0   \n",
       "2                                                1.0   \n",
       "3                                               -1.0   \n",
       "4                                               -2.0   \n",
       "\n",
       "   parks_percent_change_from_baseline  \\\n",
       "0                               -35.0   \n",
       "1                               -28.0   \n",
       "2                                24.0   \n",
       "3                                20.0   \n",
       "4                                 8.0   \n",
       "\n",
       "   transit_stations_percent_change_from_baseline  \\\n",
       "0                                          -12.0   \n",
       "1                                           -7.0   \n",
       "2                                           -2.0   \n",
       "3                                           -3.0   \n",
       "4                                           -4.0   \n",
       "\n",
       "   workplaces_percent_change_from_baseline  \\\n",
       "0                                     -4.0   \n",
       "1                                     -3.0   \n",
       "2                                    -14.0   \n",
       "3                                    -14.0   \n",
       "4                                    -14.0   \n",
       "\n",
       "   residential_percent_change_from_baseline  \n",
       "0                                       2.0  \n",
       "1                                       1.0  \n",
       "2                                       2.0  \n",
       "3                                       2.0  \n",
       "4                                       3.0  "
      ]
     },
     "execution_count": 46,
     "metadata": {},
     "output_type": "execute_result"
    }
   ],
   "source": [
    "df_2.head()"
   ]
  },
  {
   "cell_type": "code",
   "execution_count": 47,
   "id": "33232117",
   "metadata": {},
   "outputs": [],
   "source": [
    "df_2.drop(['country_region_code','country_region','sub_region_1','sub_region_2','metro_area','iso_3166_2_code','census_fips_code'],axis='columns',inplace=True)"
   ]
  },
  {
   "cell_type": "code",
   "execution_count": 48,
   "id": "09a18984",
   "metadata": {},
   "outputs": [],
   "source": [
    "df_2['date'] = pd.to_datetime(df_2['date'])"
   ]
  },
  {
   "cell_type": "code",
   "execution_count": 49,
   "id": "a5ade8f6",
   "metadata": {},
   "outputs": [],
   "source": [
    "df_2.rename(columns={'residential_percent_change_from_baseline':'retail_and_reaction_change'},inplace=True)"
   ]
  },
  {
   "cell_type": "code",
   "execution_count": 50,
   "id": "56563daf",
   "metadata": {},
   "outputs": [
    {
     "data": {
      "text/plain": [
       "Index(['place_id', 'date',\n",
       "       'retail_and_recreation_percent_change_from_baseline',\n",
       "       'grocery_and_pharmacy_percent_change_from_baseline',\n",
       "       'parks_percent_change_from_baseline',\n",
       "       'transit_stations_percent_change_from_baseline',\n",
       "       'workplaces_percent_change_from_baseline',\n",
       "       'retail_and_reaction_change'],\n",
       "      dtype='object')"
      ]
     },
     "execution_count": 50,
     "metadata": {},
     "output_type": "execute_result"
    }
   ],
   "source": [
    "df_2.columns"
   ]
  },
  {
   "cell_type": "code",
   "execution_count": 51,
   "id": "0cf11416",
   "metadata": {},
   "outputs": [
    {
     "name": "stdout",
     "output_type": "stream",
     "text": [
      "                           place_id       date  retail_and_recreation_percent_change_from_baseline  grocery_and_pharmacy_percent_change_from_baseline  parks_percent_change_from_baseline  transit_stations_percent_change_from_baseline  workplaces_percent_change_from_baseline  retail_and_reaction_change\n",
      "97758   ChIJPWx3MfrkfkgR0KBv7Z75DAM 2020-02-23                                                -1.0                                               -3.0                               -24.0                                           -3.0                                     -1.0                         NaN\n",
      "34434   ChIJgc80HpgbcUgRoImX1COLDQQ 2020-05-11                                               -74.0                                              -30.0                                 3.0                                          -59.0                                    -65.0                        25.0\n",
      "30515   ChIJ6UT-UW7p2EcR8OHBu6gcDgQ 2020-12-27                                               -68.0                                              -31.0                                24.0                                          -61.0                                    -39.0                        12.0\n",
      "103276  ChIJfUCdedcaiEgRsLNCBhpoDAM 2020-11-03                                               -14.0                                               -5.0                                34.0                                          -38.0                                    -30.0                        13.0\n",
      "19967   ChIJL4CPotneX0gRWjvhs1YZdDE 2020-12-07                                               -25.0                                                1.0                               -32.0                                          -44.0                                    -29.0                        10.0\n",
      "110680  ChIJ4fxAxFu82UcRwOPBu6gcDgQ 2020-12-18                                               -27.0                                                8.0                                 NaN                                          -38.0                                    -29.0                        12.0\n",
      "34809   ChIJFx3_wSQYcUgRsImX1COLDQQ 2020-07-04                                               -52.0                                              -15.0                                25.0                                           -1.0                                    -13.0                         NaN\n",
      "106026  ChIJSVRZZbgKekgRQDZt7Z75DAQ 2020-06-20                                               -41.0                                              -12.0                                67.0                                          -44.0                                    -18.0                         8.0\n",
      "109040  ChIJMU7U5h6TfkgRsKBv7Z75DAM 2020-11-07                                               -55.0                                              -15.0                                23.0                                          -55.0                                    -25.0                        13.0\n",
      "52112   ChIJ0fKHVy84dEgRME7toi2uDgQ 2020-06-30                                               -47.0                                              -17.0                                26.0                                          -41.0                                    -48.0                        21.0\n"
     ]
    }
   ],
   "source": [
    "print(df_2.sample(10).to_string())"
   ]
  },
  {
   "cell_type": "code",
   "execution_count": 52,
   "id": "7a430acd",
   "metadata": {},
   "outputs": [],
   "source": [
    "df3 = pd.merge(df,df_2 , on='date')"
   ]
  },
  {
   "cell_type": "code",
   "execution_count": 53,
   "id": "4f2efab7",
   "metadata": {},
   "outputs": [
    {
     "name": "stdout",
     "output_type": "stream",
     "text": [
      "            date  hospitalCases  newAdmissions  newCasesByPublishDate                     place_id  retail_and_recreation_percent_change_from_baseline  grocery_and_pharmacy_percent_change_from_baseline  parks_percent_change_from_baseline  transit_stations_percent_change_from_baseline  workplaces_percent_change_from_baseline  retail_and_reaction_change\n",
      "92593 2020-09-25         2020.0          383.0                   6874  ChIJD8OlTU_zfkgRoKBv7Z75DAM                                               -27.0                                               -6.0                                 NaN                                          -35.0                                    -21.0                         8.0\n",
      "54096 2020-06-23         4134.0          363.0                    874  ChIJQzlq8vcPdkgRMGfsoi2uDgQ                                               -70.0                                              -10.0                                54.0                                          -67.0                                    -66.0                        23.0\n",
      "52840 2020-06-20         4252.0          257.0                   1295  ChIJlwfWmnIMdkgRrCdnqjiWZjo                                               -55.0                                               -4.0                                63.0                                          -40.0                                    -20.0                        10.0\n",
      "25875 2020-04-16        20389.0         2011.0                   4618  ChIJsytpv9JF2EcRndAbE9CeKNw                                               -68.0                                              -34.0                               -14.0                                          -52.0                                    -62.0                        26.0\n",
      "33683 2020-05-05        13723.0         1146.0                   4406  ChIJF2Sj6HJme0gRUDVt7Z75DAQ                                               -66.0                                              -11.0                                21.0                                          -37.0                                    -56.0                        21.0\n",
      "3872  2020-02-24            NaN            NaN                      4  ChIJFx3_wSQYcUgRsImX1COLDQQ                                                -4.0                                               -2.0                                 0.0                                            1.0                                      0.0                         1.0\n",
      "75115 2020-08-12         1004.0          101.0                   1009  ChIJXRouQGYXfEgREONs7Z75DAQ                                                40.0                                               16.0                                 NaN                                           -8.0                                    -40.0                         9.0\n",
      "5658  2020-02-28            NaN            NaN                      6  ChIJK3eqparfeUgRUOTCu6gcDgQ                                                -1.0                                                1.0                               -21.0                                            0.0                                     -1.0                         1.0\n",
      "85731 2020-09-08          894.0          184.0                   2460  ChIJNRVmdiXudUgRsEvtoi2uDgQ                                               -21.0                                               -8.0                                 NaN                                          -62.0                                    -42.0                        11.0\n",
      "59480 2020-07-06         2699.0          204.0                    343  ChIJ5bJtoSYn2UcRMOLBu6gcDgQ                                               -27.0                                               -8.0                                 NaN                                          -56.0                                    -48.0                        17.0\n"
     ]
    }
   ],
   "source": [
    "print(df3.sample(10).to_string())"
   ]
  },
  {
   "cell_type": "code",
   "execution_count": 56,
   "id": "26188933",
   "metadata": {},
   "outputs": [
    {
     "name": "stdout",
     "output_type": "stream",
     "text": [
      "                                                    hospitalCases  newAdmissions  newCasesByPublishDate  retail_and_recreation_percent_change_from_baseline  grocery_and_pharmacy_percent_change_from_baseline  parks_percent_change_from_baseline  transit_stations_percent_change_from_baseline  workplaces_percent_change_from_baseline  retail_and_reaction_change\n",
      "hospitalCases                                            1.000000       0.900125               0.635654                                           -0.463265                                          -0.207128                           -0.486918                                      -0.465918                                -0.327324                    0.476963\n",
      "newAdmissions                                            0.900125       1.000000               0.616733                                           -0.410215                                          -0.235821                           -0.495799                                      -0.464812                                -0.340787                    0.465937\n",
      "newCasesByPublishDate                                    0.635654       0.616733               1.000000                                           -0.024990                                           0.083708                           -0.178528                                      -0.223028                                -0.056738                    0.119997\n",
      "retail_and_recreation_percent_change_from_baseline      -0.463265      -0.410215              -0.024990                                            1.000000                                           0.734700                            0.328549                                       0.732441                                 0.644772                   -0.750034\n",
      "grocery_and_pharmacy_percent_change_from_baseline       -0.207128      -0.235821               0.083708                                            0.734700                                           1.000000                            0.312543                                       0.602952                                 0.528006                   -0.515879\n",
      "parks_percent_change_from_baseline                      -0.486918      -0.495799              -0.178528                                            0.328549                                           0.312543                            1.000000                                       0.332994                                 0.073232                   -0.126733\n",
      "transit_stations_percent_change_from_baseline           -0.465918      -0.464812              -0.223028                                            0.732441                                           0.602952                            0.332994                                       1.000000                                 0.692762                   -0.741018\n",
      "workplaces_percent_change_from_baseline                 -0.327324      -0.340787              -0.056738                                            0.644772                                           0.528006                            0.073232                                       0.692762                                 1.000000                   -0.926505\n",
      "retail_and_reaction_change                               0.476963       0.465937               0.119997                                           -0.750034                                          -0.515879                           -0.126733                                      -0.741018                                -0.926505                    1.000000\n"
     ]
    }
   ],
   "source": [
    "print(df3.corr().to_string())"
   ]
  },
  {
   "cell_type": "code",
   "execution_count": 58,
   "id": "882c3021",
   "metadata": {},
   "outputs": [],
   "source": [
    "df4 = pd.concat([df3['date'],df3['hospitalCases'],df3['retail_and_reaction_change']],axis=1)"
   ]
  },
  {
   "cell_type": "code",
   "execution_count": 59,
   "id": "a55c7124",
   "metadata": {},
   "outputs": [
    {
     "data": {
      "text/html": [
       "<div>\n",
       "<style scoped>\n",
       "    .dataframe tbody tr th:only-of-type {\n",
       "        vertical-align: middle;\n",
       "    }\n",
       "\n",
       "    .dataframe tbody tr th {\n",
       "        vertical-align: top;\n",
       "    }\n",
       "\n",
       "    .dataframe thead th {\n",
       "        text-align: right;\n",
       "    }\n",
       "</style>\n",
       "<table border=\"1\" class=\"dataframe\">\n",
       "  <thead>\n",
       "    <tr style=\"text-align: right;\">\n",
       "      <th></th>\n",
       "      <th>date</th>\n",
       "      <th>hospitalCases</th>\n",
       "      <th>retail_and_reaction_change</th>\n",
       "    </tr>\n",
       "  </thead>\n",
       "  <tbody>\n",
       "    <tr>\n",
       "      <th>0</th>\n",
       "      <td>2020-02-15</td>\n",
       "      <td>NaN</td>\n",
       "      <td>2.0</td>\n",
       "    </tr>\n",
       "    <tr>\n",
       "      <th>1</th>\n",
       "      <td>2020-02-15</td>\n",
       "      <td>NaN</td>\n",
       "      <td>2.0</td>\n",
       "    </tr>\n",
       "    <tr>\n",
       "      <th>2</th>\n",
       "      <td>2020-02-15</td>\n",
       "      <td>NaN</td>\n",
       "      <td>2.0</td>\n",
       "    </tr>\n",
       "    <tr>\n",
       "      <th>3</th>\n",
       "      <td>2020-02-15</td>\n",
       "      <td>NaN</td>\n",
       "      <td>NaN</td>\n",
       "    </tr>\n",
       "    <tr>\n",
       "      <th>4</th>\n",
       "      <td>2020-02-15</td>\n",
       "      <td>NaN</td>\n",
       "      <td>2.0</td>\n",
       "    </tr>\n",
       "    <tr>\n",
       "      <th>...</th>\n",
       "      <td>...</td>\n",
       "      <td>...</td>\n",
       "      <td>...</td>\n",
       "    </tr>\n",
       "    <tr>\n",
       "      <th>133377</th>\n",
       "      <td>2020-12-31</td>\n",
       "      <td>26578.0</td>\n",
       "      <td>24.0</td>\n",
       "    </tr>\n",
       "    <tr>\n",
       "      <th>133378</th>\n",
       "      <td>2020-12-31</td>\n",
       "      <td>26578.0</td>\n",
       "      <td>24.0</td>\n",
       "    </tr>\n",
       "    <tr>\n",
       "      <th>133379</th>\n",
       "      <td>2020-12-31</td>\n",
       "      <td>26578.0</td>\n",
       "      <td>24.0</td>\n",
       "    </tr>\n",
       "    <tr>\n",
       "      <th>133380</th>\n",
       "      <td>2020-12-31</td>\n",
       "      <td>26578.0</td>\n",
       "      <td>22.0</td>\n",
       "    </tr>\n",
       "    <tr>\n",
       "      <th>133381</th>\n",
       "      <td>2020-12-31</td>\n",
       "      <td>26578.0</td>\n",
       "      <td>23.0</td>\n",
       "    </tr>\n",
       "  </tbody>\n",
       "</table>\n",
       "<p>133382 rows × 3 columns</p>\n",
       "</div>"
      ],
      "text/plain": [
       "             date  hospitalCases  retail_and_reaction_change\n",
       "0      2020-02-15            NaN                         2.0\n",
       "1      2020-02-15            NaN                         2.0\n",
       "2      2020-02-15            NaN                         2.0\n",
       "3      2020-02-15            NaN                         NaN\n",
       "4      2020-02-15            NaN                         2.0\n",
       "...           ...            ...                         ...\n",
       "133377 2020-12-31        26578.0                        24.0\n",
       "133378 2020-12-31        26578.0                        24.0\n",
       "133379 2020-12-31        26578.0                        24.0\n",
       "133380 2020-12-31        26578.0                        22.0\n",
       "133381 2020-12-31        26578.0                        23.0\n",
       "\n",
       "[133382 rows x 3 columns]"
      ]
     },
     "execution_count": 59,
     "metadata": {},
     "output_type": "execute_result"
    }
   ],
   "source": [
    "df4"
   ]
  },
  {
   "cell_type": "code",
   "execution_count": 67,
   "id": "95f53d44",
   "metadata": {},
   "outputs": [
    {
     "data": {
      "image/png": "[encoded data removed]",
      "text/plain": [
       "<Figure size 432x288 with 2 Axes>"
      ]
     },
     "metadata": {
      "needs_background": "light"
     },
     "output_type": "display_data"
    }
   ],
   "source": [
    "axis1 = df4.plot(x='date',y='hospitalCases',legend=False)\n",
    "axis2 = axis1.twinx()\n",
    "df4.plot(x='date',y='retail_and_reaction_change',ax=axis2,legend=False,color='b')\n",
    "axis1.figure.legend()\n",
    "plt.show()"
   ]
  }
 ],
 "metadata": {
  "kernelspec": {
   "display_name": "Python 3 (ipykernel)",
   "language": "python",
   "name": "python3"
  },
  "language_info": {
   "codemirror_mode": {
    "name": "ipython",
    "version": 3
   },
   "file_extension": ".py",
   "mimetype": "text/x-python",
   "name": "python",
   "nbconvert_exporter": "python",
   "pygments_lexer": "ipython3",
   "version": "3.9.7"
  }
 },
 "nbformat": 4,
 "nbformat_minor": 5
}
